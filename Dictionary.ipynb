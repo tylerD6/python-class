{
  "nbformat": 4,
  "nbformat_minor": 0,
  "metadata": {
    "colab": {
      "provenance": [],
      "include_colab_link": true
    },
    "kernelspec": {
      "name": "python3",
      "display_name": "Python 3"
    },
    "language_info": {
      "name": "python"
    }
  },
  "cells": [
    {
      "cell_type": "markdown",
      "metadata": {
        "id": "view-in-github",
        "colab_type": "text"
      },
      "source": [
        "<a href=\"https://colab.research.google.com/github/tylerD6/python-class/blob/main/Dictionary.ipynb\" target=\"_parent\"><img src=\"https://colab.research.google.com/assets/colab-badge.svg\" alt=\"Open In Colab\"/></a>"
      ]
    },
    {
      "cell_type": "markdown",
      "source": [
        "# Dictionary in Python\n",
        "In Python, a dictionary is a built-in data structure that stores data in key-value pairs. It is an unordered, mutable (changeable) collection, where each key must be unique and immutable (e.g., string, number, or tuple), while the value can be of any data type.\n",
        "\n",
        "## Objective\n",
        "- Understand how to create dictionary in Python\n",
        "- Apply various methods on a dictionary\n",
        "- Troubleshoot dictionary\n",
        "\n",
        "## Prerequisite\n",
        "\n",
        "- Lists & tuples\n",
        "- Decision and loops\n",
        "- Input functions\n",
        "\n",
        "\n",
        "## What do you need to complete this exercise?\n",
        "\n",
        "You can perform this exercise in any Python IDE, including JupyterLab or Google Colab.\n"
      ],
      "metadata": {
        "id": "2ITy4ycVFXBq"
      }
    },
    {
      "cell_type": "markdown",
      "source": [
        "# 1. Creating and accessing dictionary\n",
        "\n",
        "1a) Create dictionary of your choice of keys and values. Create dictionary size of 10 elements."
      ],
      "metadata": {
        "id": "uQxH0KO0tsDc"
      }
    },
    {
      "cell_type": "code",
      "source": [
        "dict = {\"name\":\"jeff\",\"age\":\"20\",\"color\":\"white\",\"city\":\"san diego\",\"ssn\":\"12345\"}"
      ],
      "metadata": {
        "id": "rRTflD1C9mjt"
      },
      "execution_count": 1,
      "outputs": []
    },
    {
      "cell_type": "markdown",
      "source": [
        "1b. Take inputs from a user and add them in a dictionary called ```my_user_dict```\n",
        "\n",
        "Here is the example of an user input:\n",
        "\n",
        "SSN: 111-222-3333\n",
        "\n",
        "Name: Steve Hawkins\n",
        "\n",
        "The code continue to take user input and provide an option at the end of the user input; \"Do you want to continue (Y/N)\"\n",
        "\n",
        "Identify how many keys you need to create a dictionary.\n",
        "\n",
        "__Restrictions: Do not use functions and/or exceptions in this exercise__"
      ],
      "metadata": {
        "id": "0jkTuRdlA6sk"
      }
    },
    {
      "cell_type": "code",
      "source": [
        "my_user_dict = {\"Jeff\":\"12345\"}\n",
        "\n",
        "my_user_dict[input(\"Name:\")] = input(\"SSN:\")\n",
        "\n",
        "input(\"Do you want to continue:\")\n",
        "\n",
        "print(my_user_dict)\n",
        "\n"
      ],
      "metadata": {
        "id": "8ZIVOfAMQt2Z",
        "outputId": "57a222cc-5e01-4445-a747-de3733f9533d",
        "colab": {
          "base_uri": "https://localhost:8080/"
        }
      },
      "execution_count": 17,
      "outputs": [
        {
          "output_type": "stream",
          "name": "stdout",
          "text": [
            "SSN:1232\n",
            "Name:Tyler\n",
            "Do you want to continue:y\n",
            "{'Jeff': '12345', 'Tyler': '1232'}\n"
          ]
        }
      ]
    },
    {
      "cell_type": "code",
      "source": [
        "# List of tuples where each tuple represents a key-value pair\n",
        "\n",
        "a = [(\"a\", 1), (\"b\", 2), (\"c\", 3)]\n",
        "\n",
        "# Convert the list of tuples into a dictionary\n",
        "\n",
        "res = dict(a)\n",
        "\n",
        "print(res)"
      ],
      "metadata": {
        "id": "cF0UyMIqQ8V3",
        "colab": {
          "base_uri": "https://localhost:8080/",
          "height": 216
        },
        "outputId": "e74af598-a1a7-4722-ee6e-ea01c2eca440"
      },
      "execution_count": 18,
      "outputs": [
        {
          "output_type": "error",
          "ename": "TypeError",
          "evalue": "'dict' object is not callable",
          "traceback": [
            "\u001b[0;31m---------------------------------------------------------------------------\u001b[0m",
            "\u001b[0;31mTypeError\u001b[0m                                 Traceback (most recent call last)",
            "\u001b[0;32m<ipython-input-18-e14e5f92feb5>\u001b[0m in \u001b[0;36m<cell line: 0>\u001b[0;34m()\u001b[0m\n\u001b[1;32m      5\u001b[0m \u001b[0;31m# Convert the list of tuples into a dictionary\u001b[0m\u001b[0;34m\u001b[0m\u001b[0;34m\u001b[0m\u001b[0m\n\u001b[1;32m      6\u001b[0m \u001b[0;34m\u001b[0m\u001b[0m\n\u001b[0;32m----> 7\u001b[0;31m \u001b[0mres\u001b[0m \u001b[0;34m=\u001b[0m \u001b[0mdict\u001b[0m\u001b[0;34m(\u001b[0m\u001b[0ma\u001b[0m\u001b[0;34m)\u001b[0m\u001b[0;34m\u001b[0m\u001b[0;34m\u001b[0m\u001b[0m\n\u001b[0m\u001b[1;32m      8\u001b[0m \u001b[0;34m\u001b[0m\u001b[0m\n\u001b[1;32m      9\u001b[0m \u001b[0mprint\u001b[0m\u001b[0;34m(\u001b[0m\u001b[0mres\u001b[0m\u001b[0;34m)\u001b[0m\u001b[0;34m\u001b[0m\u001b[0;34m\u001b[0m\u001b[0m\n",
            "\u001b[0;31mTypeError\u001b[0m: 'dict' object is not callable"
          ]
        }
      ]
    },
    {
      "cell_type": "markdown",
      "source": [
        "1c. Based on the given tuple, create a code which checks for valid key & value pairs, and check for key duplication.\n",
        "\n",
        "The code should provide assistance to a user to correct the error. For key duplication, ask user to change the key\n",
        "\n",
        "__Restrictions: Do not use functions and/or exceptions in this exercise__"
      ],
      "metadata": {
        "id": "J6CAWQq0HBv6"
      }
    },
    {
      "cell_type": "code",
      "source": [
        "my_list = [(\"Name\", \"Sarah Connor\"), (\"Date of birth\", \"1 Jan 1980\"), (\"Address\",\"1000 Black Mountain Drive\",92126),(\"Name\", \"Jim Hawkins\")]\n",
        "my_list"
      ],
      "metadata": {
        "colab": {
          "base_uri": "https://localhost:8080/"
        },
        "id": "zhseVMcKL-89",
        "outputId": "11416824-581d-4043-8857-b42b88b5ea5f"
      },
      "execution_count": 20,
      "outputs": [
        {
          "output_type": "execute_result",
          "data": {
            "text/plain": [
              "[('Name', 'Sarah Connor'),\n",
              " ('Date of birth', '1 Jan 1980'),\n",
              " ('Address', '1000 Black Mountain Drive', 92126),\n",
              " ('Name', 'Jim Hawkins')]"
            ]
          },
          "metadata": {},
          "execution_count": 20
        }
      ]
    },
    {
      "cell_type": "code",
      "source": [
        "# I literally have no idea how to complete this exercise, even with research"
      ],
      "metadata": {
        "id": "i8JboXu9AvCV"
      },
      "execution_count": 19,
      "outputs": []
    },
    {
      "cell_type": "markdown",
      "source": [
        "1d. Convert the following list into a dictionary. Automate the process by using the loop.\n",
        "\n",
        "__Restrictions: Do not use functions and/or exceptions in this exercise__"
      ],
      "metadata": {
        "id": "h7Jc8xH-JEmh"
      }
    },
    {
      "cell_type": "code",
      "source": [
        "my_list = [10012,\"Mango\",43221,\"Gala apple\",14321,\"Banana\",10011,\"Watermelon\"]\n",
        "dict = {}\n",
        "x=0\n",
        "\n",
        "while(x < 8):\n",
        "  dict[my_list[x+1]] = my_list[x]\n",
        "  x+=2\n",
        "\n",
        "print(dict)\n"
      ],
      "metadata": {
        "id": "Nfv-ATQUKlW2",
        "outputId": "72f6aac5-0d3e-4c54-f016-056fbb15bb9e",
        "colab": {
          "base_uri": "https://localhost:8080/"
        }
      },
      "execution_count": 23,
      "outputs": [
        {
          "output_type": "stream",
          "name": "stdout",
          "text": [
            "{'Mango': 10012, 'Gala apple': 43221, 'Banana': 14321, 'Watermelon': 10011}\n"
          ]
        }
      ]
    },
    {
      "cell_type": "markdown",
      "source": [
        "1e. Use the following text and count the number of words using dictionary. Remember The or the counts as 2.\n",
        "\n",
        "**The tiger (Panthera tigris) is a large cat and a member of the genus Panthera native to Asia. It has a powerful, muscular body with a large head and paws, a long tail and orange fur with black, mostly vertical stripes. It is traditionally classified into nine recent subspecies, though some recognise only two subspecies, mainland Asian tigers and the island tigers of the Sunda Islands.**"
      ],
      "metadata": {
        "id": "lLeAeQwmSHWL"
      }
    },
    {
      "cell_type": "markdown",
      "source": [
        "# 2. Troubleshooting"
      ],
      "metadata": {
        "id": "tJlIQIYjBPLX"
      }
    },
    {
      "cell_type": "code",
      "source": [
        "d_orig = {123:\"Coconut\"}\n",
        "d_copy = d_orig\n",
        "print(d_orig)\n",
        "print(d_copy)"
      ],
      "metadata": {
        "id": "70JnWsa6zE0M",
        "colab": {
          "base_uri": "https://localhost:8080/"
        },
        "outputId": "5eec4503-2b75-4395-b9e4-4cc481c80db3"
      },
      "execution_count": 24,
      "outputs": [
        {
          "output_type": "stream",
          "name": "stdout",
          "text": [
            "{123: 'Coconut'}\n",
            "{123: 'Coconut'}\n"
          ]
        }
      ]
    },
    {
      "cell_type": "markdown",
      "source": [
        "2a. Change the content of ```d_copy``` and make sure the content does not affect the ```d_orig``` dictionary. Verify using the code."
      ],
      "metadata": {
        "id": "eF1Xhaw4M1CG"
      }
    },
    {
      "cell_type": "code",
      "source": [
        "import copy\n",
        "\n",
        "d_orig = {123:\"Coconut\"}\n",
        "d_copy = copy.deepcopy(d_orig)\n",
        "\n",
        "d_copy[\"coconut\"] = 456\n",
        "\n",
        "print(d_copy)\n",
        "print(d_orig)"
      ],
      "metadata": {
        "id": "w93b1OeVNYuf",
        "outputId": "912a2954-2385-4bfb-e074-cbf108c6360c",
        "colab": {
          "base_uri": "https://localhost:8080/"
        }
      },
      "execution_count": 37,
      "outputs": [
        {
          "output_type": "stream",
          "name": "stdout",
          "text": [
            "{123: 'Coconut', 'coconut': 456}\n",
            "{123: 'Coconut'}\n"
          ]
        }
      ]
    },
    {
      "cell_type": "markdown",
      "source": [
        "2b. If it changes the content of the original dictionary, then propose how can you solve this problem."
      ],
      "metadata": {
        "id": "O0-uz6MdzJ4a"
      }
    },
    {
      "cell_type": "code",
      "source": [
        "#The way to solve the problem is import a deep copy. This way, you can copy the original and edit your new copy without altering the other"
      ],
      "metadata": {
        "id": "xyS0VVapNvEv"
      },
      "execution_count": 38,
      "outputs": []
    },
    {
      "cell_type": "markdown",
      "source": [
        "2c. Write a code that generates the following error and explain why there is such an error.\n",
        "```\n",
        "TypeError: unhashable type: 'list'\n",
        "```"
      ],
      "metadata": {
        "id": "6vXaWJBczn5u"
      }
    },
    {
      "cell_type": "code",
      "source": [
        "dict = {}\n",
        "dict[[1, 2, 3]] = \"value\"\n",
        "\n",
        "# Since lists are changeable (mutable), they can not be hashable"
      ],
      "metadata": {
        "id": "dUoHv95LOCYr",
        "outputId": "ca313146-fc9e-4145-c59a-9d225a60a986",
        "colab": {
          "base_uri": "https://localhost:8080/",
          "height": 198
        }
      },
      "execution_count": 49,
      "outputs": [
        {
          "output_type": "error",
          "ename": "TypeError",
          "evalue": "unhashable type: 'list'",
          "traceback": [
            "\u001b[0;31m---------------------------------------------------------------------------\u001b[0m",
            "\u001b[0;31mTypeError\u001b[0m                                 Traceback (most recent call last)",
            "\u001b[0;32m<ipython-input-49-3f8405ad0f19>\u001b[0m in \u001b[0;36m<cell line: 0>\u001b[0;34m()\u001b[0m\n\u001b[1;32m      1\u001b[0m \u001b[0mdict\u001b[0m \u001b[0;34m=\u001b[0m \u001b[0;34m{\u001b[0m\u001b[0;34m}\u001b[0m\u001b[0;34m\u001b[0m\u001b[0;34m\u001b[0m\u001b[0m\n\u001b[0;32m----> 2\u001b[0;31m \u001b[0mdict\u001b[0m\u001b[0;34m[\u001b[0m\u001b[0;34m[\u001b[0m\u001b[0;36m1\u001b[0m\u001b[0;34m,\u001b[0m \u001b[0;36m2\u001b[0m\u001b[0;34m,\u001b[0m \u001b[0;36m3\u001b[0m\u001b[0;34m]\u001b[0m\u001b[0;34m]\u001b[0m \u001b[0;34m=\u001b[0m \u001b[0;34m\"value\"\u001b[0m\u001b[0;34m\u001b[0m\u001b[0;34m\u001b[0m\u001b[0m\n\u001b[0m\u001b[1;32m      3\u001b[0m \u001b[0;34m\u001b[0m\u001b[0m\n\u001b[1;32m      4\u001b[0m \u001b[0;31m# Since lists are changeable (mutable), they can not be hashable\u001b[0m\u001b[0;34m\u001b[0m\u001b[0;34m\u001b[0m\u001b[0m\n",
            "\u001b[0;31mTypeError\u001b[0m: unhashable type: 'list'"
          ]
        }
      ]
    },
    {
      "cell_type": "markdown",
      "source": [
        "## Challenges\n",
        "\n",
        "Please describe the challenges you faced during the exercise."
      ],
      "metadata": {
        "id": "xQzjxKdvvbyo"
      }
    },
    {
      "cell_type": "markdown",
      "source": [
        "I couldn't figure out how to complete exercise 1C, it seems like I'm missing something and I can't figure it out"
      ],
      "metadata": {
        "id": "qfJNpTB5EbY4"
      }
    }
  ]
}