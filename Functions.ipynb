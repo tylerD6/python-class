{
  "nbformat": 4,
  "nbformat_minor": 0,
  "metadata": {
    "colab": {
      "provenance": [],
      "include_colab_link": true
    },
    "kernelspec": {
      "name": "python3",
      "display_name": "Python 3"
    },
    "language_info": {
      "name": "python"
    }
  },
  "cells": [
    {
      "cell_type": "markdown",
      "metadata": {
        "id": "view-in-github",
        "colab_type": "text"
      },
      "source": [
        "<a href=\"https://colab.research.google.com/github/tylerD6/python-class/blob/main/Functions.ipynb\" target=\"_parent\"><img src=\"https://colab.research.google.com/assets/colab-badge.svg\" alt=\"Open In Colab\"/></a>"
      ]
    },
    {
      "cell_type": "markdown",
      "source": [
        "# Functions in Python\n",
        "Functions are designed to perform the same task repeatedly. For the user, they operate like a black box, with no visibility into how the function is implemented. Users provide compatible arguments to the function, or in some cases, no arguments at all, and the function executes according to the programmer's implementation.\n",
        "\n",
        "## Objective\n",
        "- Understand how arguments are used in functions\n",
        "- Function variables visibility and global variables\n",
        "- Troubleshoot functions\n",
        "\n",
        "## Prerequisite\n",
        "\n",
        "- Lists & tuples\n",
        "- Decision and loops\n",
        "\n",
        "\n",
        "## What do you need to complete this exercise?\n",
        "\n",
        "You can perform this exercise in any Python IDE, including JupyterLab or Google Colab.\n"
      ],
      "metadata": {
        "id": "2ITy4ycVFXBq"
      }
    },
    {
      "cell_type": "markdown",
      "source": [
        "# Create a unit conversion program using functions\n",
        "1a. The user selects kilometers per liter (kpl), and the response will be provided in miles per gallon (mpg). The units must be interchangeable, so the program will ask the user whether to convert from kpl to mpg or vice versa.\n",
        "\n",
        "The program will prompt the user for input and deliver output with the appropriate units.\n",
        "\n",
        "Additionally, the program will include input validation. For example, it will not accept letter inputs and will provide an error message to the user when invalid input is detected.\n",
        "\n",
        "The function will also allow multiple arguments, enabling the user to convert multiple values at once.\n",
        "\n",
        "Research and find out the conversion factor between the units."
      ],
      "metadata": {
        "id": "uQxH0KO0tsDc"
      }
    },
    {
      "cell_type": "code",
      "source": [
        "try:\n",
        "  x = int(input('Kilometers driven per liter: '))\n",
        "  x = x*0.62\n",
        "  print(x*3.785)\n",
        "\n",
        "except TypeError:\n",
        "  print(\"String not accepted\")\n",
        "\n",
        "except ZeroDivisionError:\n",
        "  print(\"Can't input zero\")\n",
        "\n",
        "except:\n",
        "  print(\"Invalid input, try something else\")\n",
        "\n"
      ],
      "metadata": {
        "id": "rRTflD1C9mjt",
        "outputId": "2602e765-3adf-4c0a-8cac-d8b17296edec",
        "colab": {
          "base_uri": "https://localhost:8080/"
        }
      },
      "execution_count": 32,
      "outputs": [
        {
          "output_type": "stream",
          "name": "stdout",
          "text": [
            "Kilometers driven per liter: 123\n",
            "288.64410000000004\n"
          ]
        }
      ]
    },
    {
      "cell_type": "markdown",
      "source": [
        "1b. How would you write a function that could take any number of unnamed arguments and print their values out in reverse order?\n",
        "\n",
        "\n",
        "**You use the args syntax with an asterisk, which can take any argument. Then you use a loop to input all the arguments. There is a print_reverse method prints the list/tuple backwards**\n",
        "\n",
        "\n"
      ],
      "metadata": {
        "id": "0jkTuRdlA6sk"
      }
    },
    {
      "cell_type": "markdown",
      "source": [
        "1c. What would be the result of changing a list or dictionary that was passed into a function as a parameter value? Which operations would be likely to create changes that would be visible outside the function? What steps might you take to minimize that risk?\n",
        "\n",
        "Explain the above statements with the help of code."
      ],
      "metadata": {
        "id": "sL7k6J70zdzH"
      }
    },
    {
      "cell_type": "code",
      "source": [
        "## Since lists and dictionaries are mutable, the function will be able to change the data of the list/dictionary.\n",
        "##If you used append and remove, the list would be modified from outside view. Any of the order operations could\n",
        "##also change this, such as reverse. If we are trying to keep the values in the list the same, we could just import\n",
        "##a shallow copy, allowing the original to stay the same.\n",
        "\n",
        "print_reverse(1, 2, 3, 4, 5)\n"
      ],
      "metadata": {
        "id": "8ZIVOfAMQt2Z",
        "outputId": "30c19bfa-d4c0-4330-8753-e71675af3736",
        "colab": {
          "base_uri": "https://localhost:8080/"
        }
      },
      "execution_count": 35,
      "outputs": [
        {
          "output_type": "stream",
          "name": "stdout",
          "text": [
            "5\n",
            "4\n",
            "3\n",
            "2\n",
            "1\n"
          ]
        }
      ]
    },
    {
      "cell_type": "markdown",
      "source": [
        "1d. Assuming that ```x = 5```, what will be the value of ```x``` after ```funct_1()``` below executes? After ```funct_2()``` executes?\n"
      ],
      "metadata": {
        "id": "1wWF-wZx2h9s"
      }
    },
    {
      "cell_type": "code",
      "source": [
        "x = 5\n",
        "def funct_1():\n",
        "  x=3\n",
        "\n",
        "def funct_2():\n",
        "  global x\n",
        "  x=2\n",
        "\n",
        "\n",
        "## Output after funct_1 is still 5, as x is a local variable\n",
        "## After funct_2, output is x = 2 because x became global\n"
      ],
      "metadata": {
        "id": "nvd-xB2v3AYh"
      },
      "execution_count": 50,
      "outputs": []
    },
    {
      "cell_type": "markdown",
      "source": [
        "# 2. Troubleshooting"
      ],
      "metadata": {
        "id": "tJlIQIYjBPLX"
      }
    },
    {
      "cell_type": "markdown",
      "source": [
        "Correct the following code. There might be more than one correct answers. Explain your reasoning."
      ],
      "metadata": {
        "id": "V8HkUVFy6DlD"
      }
    },
    {
      "cell_type": "code",
      "source": [
        "def my_func(a,b,**c):\n",
        "  print(c)\n",
        "\n",
        "my_func(1,2,c=3,d=4,e=5,f=6)\n",
        "\n",
        "\n",
        "## 6 arguments were given when only 2 can be taken\n",
        "## the **c wants arguments, so you implement something = value"
      ],
      "metadata": {
        "id": "bJzMzbxIsAU9",
        "outputId": "ac57a763-f089-4be4-94f0-127b491d4614",
        "colab": {
          "base_uri": "https://localhost:8080/"
        }
      },
      "execution_count": 55,
      "outputs": [
        {
          "output_type": "stream",
          "name": "stdout",
          "text": [
            "{'c': 3, 'd': 4, 'e': 5, 'f': 6}\n"
          ]
        }
      ]
    },
    {
      "cell_type": "markdown",
      "source": [
        "Using the following code, x should print 100 but it prints 10, why?"
      ],
      "metadata": {
        "id": "sYDRYXa9vbX4"
      }
    },
    {
      "cell_type": "markdown",
      "source": [],
      "metadata": {
        "id": "N2WPSneAg1Yj"
      }
    },
    {
      "cell_type": "markdown",
      "source": [],
      "metadata": {
        "id": "8IXfm6XQg1WB"
      }
    },
    {
      "cell_type": "markdown",
      "source": [
        "It prints 10 because the x=100 is a local variable inside of a function. Since x is changed to a global variable, it retains its value as 10. The global variable is not modified when the my_func_global is called\n"
      ],
      "metadata": {
        "id": "d6aB-C6rO1ux"
      }
    },
    {
      "cell_type": "code",
      "source": [
        "def my_func_global():\n",
        "  x = 100\n",
        "\n",
        "global x\n",
        "x = 10\n",
        "my_func_global()\n",
        "print(x)"
      ],
      "metadata": {
        "id": "w93b1OeVNYuf",
        "colab": {
          "base_uri": "https://localhost:8080/"
        },
        "outputId": "ae76ceec-a7a9-45fe-bff1-5d9bf3abfba7"
      },
      "execution_count": 56,
      "outputs": [
        {
          "output_type": "stream",
          "name": "stdout",
          "text": [
            "10\n"
          ]
        }
      ]
    },
    {
      "cell_type": "markdown",
      "source": [
        "## Challenges\n",
        "\n",
        "Please describe the challenges you faced during the exercise."
      ],
      "metadata": {
        "id": "xQzjxKdvvbyo"
      }
    },
    {
      "cell_type": "markdown",
      "source": [
        "The first question was challenging at first because I couldn't seem to get the exception to work, but eventually it did."
      ],
      "metadata": {
        "id": "qfJNpTB5EbY4"
      }
    }
  ]
}