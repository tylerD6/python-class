{
  "nbformat": 4,
  "nbformat_minor": 0,
  "metadata": {
    "colab": {
      "provenance": [],
      "include_colab_link": true
    },
    "kernelspec": {
      "name": "python3",
      "display_name": "Python 3"
    },
    "language_info": {
      "name": "python"
    }
  },
  "cells": [
    {
      "cell_type": "markdown",
      "metadata": {
        "id": "view-in-github",
        "colab_type": "text"
      },
      "source": [
        "<a href=\"https://colab.research.google.com/github/tylerD6/python-class/blob/main/Decision.ipynb\" target=\"_parent\"><img src=\"https://colab.research.google.com/assets/colab-badge.svg\" alt=\"Open In Colab\"/></a>"
      ]
    },
    {
      "cell_type": "markdown",
      "source": [
        "# Decision statements\n",
        "\n",
        "To execute or not to execute—that is the question. I have adapted a Shakespeare quote, originally written as \"To be, or not to be—that is the question.\" Decision statements generally work in a similar way. You evaluate an expression, and if the result is true, you perform a specific action; otherwise, you take a different action.\n",
        "\n",
        "## Objective\n",
        "1. Understand how decision statements are applied in Python\n",
        "2. Apply comparison, logical and bitwise logical operators to evaluate the expression\n",
        "\n",
        "## Prerequisite\n",
        "\n",
        "- Converting binary to decimal and decimal to binary\n",
        "- Decision statements\n",
        "- Input functions\n",
        "- Python literals\n",
        "- Programming variables\n",
        "\n",
        "\n",
        "## What do you need to complete this exercise?\n",
        "\n",
        "You can perform this exercise in any Python IDE, including JupyterLab or Google Colab.\n"
      ],
      "metadata": {
        "id": "2ITy4ycVFXBq"
      }
    },
    {
      "cell_type": "markdown",
      "source": [
        "### 1. Comparison operators\n",
        "\n",
        "Decision statements utilize comparison operators, and based on the True or False result, specific statements are executed."
      ],
      "metadata": {
        "id": "uQxH0KO0tsDc"
      }
    },
    {
      "cell_type": "code",
      "source": [
        "print(4 < 5)  # this gives True"
      ],
      "metadata": {
        "id": "8ZIVOfAMQt2Z",
        "colab": {
          "base_uri": "https://localhost:8080/"
        },
        "outputId": "e80ba826-ed56-4a95-a199-1572d58d44c5"
      },
      "execution_count": null,
      "outputs": [
        {
          "output_type": "stream",
          "name": "stdout",
          "text": [
            "True\n"
          ]
        }
      ]
    },
    {
      "cell_type": "code",
      "source": [
        "print(22 <= 22)  # this gives True"
      ],
      "metadata": {
        "id": "cF0UyMIqQ8V3",
        "colab": {
          "base_uri": "https://localhost:8080/"
        },
        "outputId": "09f95ee4-7e1f-4357-e7d9-b4ab397729f3"
      },
      "execution_count": null,
      "outputs": [
        {
          "output_type": "stream",
          "name": "stdout",
          "text": [
            "True\n"
          ]
        }
      ]
    },
    {
      "cell_type": "code",
      "source": [
        "x = 10\n",
        "print (x<=10)"
      ],
      "metadata": {
        "id": "S5kO371-Q_NL",
        "colab": {
          "base_uri": "https://localhost:8080/"
        },
        "outputId": "065805fe-ae51-42d0-e050-0cf71ecf6fa6"
      },
      "execution_count": null,
      "outputs": [
        {
          "output_type": "stream",
          "name": "stdout",
          "text": [
            "True\n"
          ]
        }
      ]
    },
    {
      "cell_type": "code",
      "source": [
        "x=10\n",
        "print(20 < x)  # this gives False"
      ],
      "metadata": {
        "id": "fQr5X9N0RceU",
        "colab": {
          "base_uri": "https://localhost:8080/"
        },
        "outputId": "6e955860-83fb-47b9-807b-ea09b807533f"
      },
      "execution_count": null,
      "outputs": [
        {
          "output_type": "stream",
          "name": "stdout",
          "text": [
            "False\n"
          ]
        }
      ]
    },
    {
      "cell_type": "code",
      "source": [
        "print(\"A\" < \"a\")  # this gives True because the ASCII of \"A\" is 65 and \"a\" is 97. The Python interpreter converts the\n",
        "# character in ASCII number and then compare."
      ],
      "metadata": {
        "id": "QacofGe4RdZX",
        "colab": {
          "base_uri": "https://localhost:8080/"
        },
        "outputId": "dadce521-331a-4ebc-8e2f-aab0087bff1d"
      },
      "execution_count": null,
      "outputs": [
        {
          "output_type": "stream",
          "name": "stdout",
          "text": [
            "True\n"
          ]
        }
      ]
    },
    {
      "cell_type": "code",
      "source": [
        "print(\"Monday\" > \"Tuesday\")  # this gives False because the first character of \"Monday\" (M) has a lower ASCII value\n",
        "# as compared to the first character of \"Tuesday\" (T)"
      ],
      "metadata": {
        "id": "5M7ksW8xsC3k",
        "colab": {
          "base_uri": "https://localhost:8080/"
        },
        "outputId": "c89b312f-9625-4886-c347-1e0bccee18e4"
      },
      "execution_count": null,
      "outputs": [
        {
          "output_type": "stream",
          "name": "stdout",
          "text": [
            "False\n"
          ]
        }
      ]
    },
    {
      "cell_type": "markdown",
      "source": [
        "Research and find the ASCII number of all the characters available on the keyboard using Python."
      ],
      "metadata": {
        "id": "oxXvMBKNsX8M"
      }
    },
    {
      "cell_type": "code",
      "source": [
        "import string\n",
        "keyboard_chars = string.printable\n",
        "\n",
        "for char in keyboard_chars:\n",
        "  print(f\"Character: {repr(char)}, ASCII: {ord(char)}\")"
      ],
      "metadata": {
        "id": "w9Ai1I_JsYw9",
        "colab": {
          "base_uri": "https://localhost:8080/"
        },
        "outputId": "40ec0997-2d46-4afe-d6b0-a954f182152d"
      },
      "execution_count": null,
      "outputs": [
        {
          "output_type": "stream",
          "name": "stdout",
          "text": [
            "Character: '0', ASCII: 48\n",
            "Character: '1', ASCII: 49\n",
            "Character: '2', ASCII: 50\n",
            "Character: '3', ASCII: 51\n",
            "Character: '4', ASCII: 52\n",
            "Character: '5', ASCII: 53\n",
            "Character: '6', ASCII: 54\n",
            "Character: '7', ASCII: 55\n",
            "Character: '8', ASCII: 56\n",
            "Character: '9', ASCII: 57\n",
            "Character: 'a', ASCII: 97\n",
            "Character: 'b', ASCII: 98\n",
            "Character: 'c', ASCII: 99\n",
            "Character: 'd', ASCII: 100\n",
            "Character: 'e', ASCII: 101\n",
            "Character: 'f', ASCII: 102\n",
            "Character: 'g', ASCII: 103\n",
            "Character: 'h', ASCII: 104\n",
            "Character: 'i', ASCII: 105\n",
            "Character: 'j', ASCII: 106\n",
            "Character: 'k', ASCII: 107\n",
            "Character: 'l', ASCII: 108\n",
            "Character: 'm', ASCII: 109\n",
            "Character: 'n', ASCII: 110\n",
            "Character: 'o', ASCII: 111\n",
            "Character: 'p', ASCII: 112\n",
            "Character: 'q', ASCII: 113\n",
            "Character: 'r', ASCII: 114\n",
            "Character: 's', ASCII: 115\n",
            "Character: 't', ASCII: 116\n",
            "Character: 'u', ASCII: 117\n",
            "Character: 'v', ASCII: 118\n",
            "Character: 'w', ASCII: 119\n",
            "Character: 'x', ASCII: 120\n",
            "Character: 'y', ASCII: 121\n",
            "Character: 'z', ASCII: 122\n",
            "Character: 'A', ASCII: 65\n",
            "Character: 'B', ASCII: 66\n",
            "Character: 'C', ASCII: 67\n",
            "Character: 'D', ASCII: 68\n",
            "Character: 'E', ASCII: 69\n",
            "Character: 'F', ASCII: 70\n",
            "Character: 'G', ASCII: 71\n",
            "Character: 'H', ASCII: 72\n",
            "Character: 'I', ASCII: 73\n",
            "Character: 'J', ASCII: 74\n",
            "Character: 'K', ASCII: 75\n",
            "Character: 'L', ASCII: 76\n",
            "Character: 'M', ASCII: 77\n",
            "Character: 'N', ASCII: 78\n",
            "Character: 'O', ASCII: 79\n",
            "Character: 'P', ASCII: 80\n",
            "Character: 'Q', ASCII: 81\n",
            "Character: 'R', ASCII: 82\n",
            "Character: 'S', ASCII: 83\n",
            "Character: 'T', ASCII: 84\n",
            "Character: 'U', ASCII: 85\n",
            "Character: 'V', ASCII: 86\n",
            "Character: 'W', ASCII: 87\n",
            "Character: 'X', ASCII: 88\n",
            "Character: 'Y', ASCII: 89\n",
            "Character: 'Z', ASCII: 90\n",
            "Character: '!', ASCII: 33\n",
            "Character: '\"', ASCII: 34\n",
            "Character: '#', ASCII: 35\n",
            "Character: '$', ASCII: 36\n",
            "Character: '%', ASCII: 37\n",
            "Character: '&', ASCII: 38\n",
            "Character: \"'\", ASCII: 39\n",
            "Character: '(', ASCII: 40\n",
            "Character: ')', ASCII: 41\n",
            "Character: '*', ASCII: 42\n",
            "Character: '+', ASCII: 43\n",
            "Character: ',', ASCII: 44\n",
            "Character: '-', ASCII: 45\n",
            "Character: '.', ASCII: 46\n",
            "Character: '/', ASCII: 47\n",
            "Character: ':', ASCII: 58\n",
            "Character: ';', ASCII: 59\n",
            "Character: '<', ASCII: 60\n",
            "Character: '=', ASCII: 61\n",
            "Character: '>', ASCII: 62\n",
            "Character: '?', ASCII: 63\n",
            "Character: '@', ASCII: 64\n",
            "Character: '[', ASCII: 91\n",
            "Character: '\\\\', ASCII: 92\n",
            "Character: ']', ASCII: 93\n",
            "Character: '^', ASCII: 94\n",
            "Character: '_', ASCII: 95\n",
            "Character: '`', ASCII: 96\n",
            "Character: '{', ASCII: 123\n",
            "Character: '|', ASCII: 124\n",
            "Character: '}', ASCII: 125\n",
            "Character: '~', ASCII: 126\n",
            "Character: ' ', ASCII: 32\n",
            "Character: '\\t', ASCII: 9\n",
            "Character: '\\n', ASCII: 10\n",
            "Character: '\\r', ASCII: 13\n",
            "Character: '\\x0b', ASCII: 11\n",
            "Character: '\\x0c', ASCII: 12\n"
          ]
        }
      ]
    },
    {
      "cell_type": "markdown",
      "source": [
        "### 2. Logical operators (and, or, not)\n",
        "\n",
        "> **Do not write logical operators in all uppercase like AND, OR, NOT - Syntax Error**\n",
        "\n",
        "**and logical operator:** Both expression's result need to be True to get the True output.\n",
        "If one expression's result is False, the output will be False regardless of the second expression's result. For example,\n"
      ],
      "metadata": {
        "id": "IeiOBf1Tse1c"
      }
    },
    {
      "cell_type": "code",
      "source": [
        "12> 6 and 25 < 146  # True and True is True"
      ],
      "metadata": {
        "id": "x3mHyztHSYtd",
        "colab": {
          "base_uri": "https://localhost:8080/"
        },
        "outputId": "67b71925-eb27-43df-f0a2-04552b6896c4"
      },
      "execution_count": null,
      "outputs": [
        {
          "output_type": "execute_result",
          "data": {
            "text/plain": [
              "True"
            ]
          },
          "metadata": {},
          "execution_count": 9
        }
      ]
    },
    {
      "cell_type": "code",
      "source": [
        "12 < 6 and 25 < 146  # Here first expression is False, the output will be False"
      ],
      "metadata": {
        "id": "3cKTn377ScUS",
        "colab": {
          "base_uri": "https://localhost:8080/"
        },
        "outputId": "aa232937-a282-4121-9b16-53782a40c72f"
      },
      "execution_count": null,
      "outputs": [
        {
          "output_type": "execute_result",
          "data": {
            "text/plain": [
              "False"
            ]
          },
          "metadata": {},
          "execution_count": 10
        }
      ]
    },
    {
      "cell_type": "markdown",
      "source": [
        "**or logical operator:** Both expression's result need to be False to get the False output.\n",
        "If one expression's result is True, the output will be True regardless of the second expression's result. For example,"
      ],
      "metadata": {
        "id": "1zkqNiyFSgoT"
      }
    },
    {
      "cell_type": "code",
      "source": [
        "12 < 6 or 25 > 146  # False and False is False"
      ],
      "metadata": {
        "id": "dy3FnJs5UEaD",
        "colab": {
          "base_uri": "https://localhost:8080/"
        },
        "outputId": "4bec6485-cc90-47cb-971e-b889dc27c501"
      },
      "execution_count": null,
      "outputs": [
        {
          "output_type": "execute_result",
          "data": {
            "text/plain": [
              "False"
            ]
          },
          "metadata": {},
          "execution_count": 13
        }
      ]
    },
    {
      "cell_type": "code",
      "source": [
        "not(12 > 6 and 25 > 146)  # Here first expression is True, the output will be True"
      ],
      "metadata": {
        "id": "wy95gdKhUFpw",
        "colab": {
          "base_uri": "https://localhost:8080/"
        },
        "outputId": "59b5c9ed-f85d-467d-ecf0-78b87a597072"
      },
      "execution_count": null,
      "outputs": [
        {
          "output_type": "execute_result",
          "data": {
            "text/plain": [
              "True"
            ]
          },
          "metadata": {},
          "execution_count": 14
        }
      ]
    },
    {
      "cell_type": "markdown",
      "source": [
        "**not logical operator:** Inverts the result"
      ],
      "metadata": {
        "id": "MECYeRbPUJX3"
      }
    },
    {
      "cell_type": "markdown",
      "source": [],
      "metadata": {
        "id": "WpnaEQIFq5c1"
      }
    },
    {
      "cell_type": "code",
      "source": [
        "print(not(10 > 4))\n",
        "\n",
        "print(not(not(10 > 4)))"
      ],
      "metadata": {
        "id": "ILhDuME6ULRI",
        "colab": {
          "base_uri": "https://localhost:8080/"
        },
        "outputId": "0fba3c52-6a09-433c-f342-c109d88e42e4"
      },
      "execution_count": null,
      "outputs": [
        {
          "output_type": "stream",
          "name": "stdout",
          "text": [
            "False\n",
            "True\n"
          ]
        }
      ]
    },
    {
      "cell_type": "code",
      "source": [
        "not(10 > 4) # this is False"
      ],
      "metadata": {
        "id": "4cKFmjbLUNJL",
        "colab": {
          "base_uri": "https://localhost:8080/"
        },
        "outputId": "14e149bb-c71f-4d31-ba10-d7dd11f364b3"
      },
      "execution_count": null,
      "outputs": [
        {
          "output_type": "execute_result",
          "data": {
            "text/plain": [
              "False"
            ]
          },
          "metadata": {},
          "execution_count": 25
        }
      ]
    },
    {
      "cell_type": "markdown",
      "source": [
        "### 3. Bitwise logical operators (and, or, not, xor)\n",
        "**Remember bitwise logical operators operates on bits**\n",
        "To differentiate between logical operators and bitwise logical operators, Python uses distinct symbols for each.\n",
        "\n",
        "| Name of the logical operator | Logical operator in Python | Bitwise logical operator in Python |\n",
        "| ---------------------------- | -------------------------- | ---------------------------------- |\n",
        "| and                          | and                        | &                                  |\n",
        "| or                           | or                         | \\|                                 |\n",
        "| not                          | not                        | ~                                  |\n",
        "| xor                          | -                          | ^                                  |\n",
        "|                              |                 \n",
        "\n",
        "#### Example bitwise or"
      ],
      "metadata": {
        "id": "czSzoaq2UTFT"
      }
    },
    {
      "cell_type": "code",
      "source": [
        "x = 0b1110 # 0b represents binary number, decimal 14"
      ],
      "metadata": {
        "id": "UvjKUqDNUYcB"
      },
      "execution_count": null,
      "outputs": []
    },
    {
      "cell_type": "code",
      "source": [
        "y= 0b1100 # decimal 11"
      ],
      "metadata": {
        "id": "vtpI8d0eUbnn"
      },
      "execution_count": null,
      "outputs": []
    },
    {
      "cell_type": "code",
      "source": [
        "x=0b1110\n",
        "y=0b1100\n",
        "result = x | y # Bitwise or, result in decimal format"
      ],
      "metadata": {
        "id": "8m-iUI9TUfHP"
      },
      "execution_count": null,
      "outputs": []
    },
    {
      "cell_type": "code",
      "source": [
        "print(result)"
      ],
      "metadata": {
        "id": "OT80dv26Ufve",
        "colab": {
          "base_uri": "https://localhost:8080/"
        },
        "outputId": "2be8f754-bc92-4483-b3be-99dce516112b"
      },
      "execution_count": null,
      "outputs": [
        {
          "output_type": "stream",
          "name": "stdout",
          "text": [
            "15\n"
          ]
        }
      ]
    },
    {
      "cell_type": "code",
      "source": [
        "print(bin(15)) # bin() function converts decimal to binary"
      ],
      "metadata": {
        "id": "rnNhxiGPUi8S",
        "colab": {
          "base_uri": "https://localhost:8080/"
        },
        "outputId": "e368ad83-6c01-4567-c56a-1ab955c93bfd"
      },
      "execution_count": null,
      "outputs": [
        {
          "output_type": "stream",
          "name": "stdout",
          "text": [
            "0b1111\n"
          ]
        }
      ]
    },
    {
      "cell_type": "code",
      "source": [
        "# Proof\n",
        "# 1110\n",
        "# 1011\n",
        "# ----\n",
        "# 1111"
      ],
      "metadata": {
        "id": "mkvmqn0YU1US"
      },
      "execution_count": null,
      "outputs": []
    },
    {
      "cell_type": "code",
      "source": [
        "x=0b1110 # binary for decimal 11\n",
        "y=0b1100\n",
        "\n",
        "# Perform bitwise OR operation (|), which gives 1111 in binary or 15 in decimal\n",
        "or_result = x | y\n",
        "print(f\"Bitwise OR: {or_result} (decimal), {bin(or_result)} (binary)\")\n",
        "\n",
        "# Perform bitwise AND operation (&), which gives 1010 in binary or 10 in decimal\n",
        "and_result = x & y\n",
        "print(f\"Bitwise AND: {and_result} (decimal), {bin(and_result)} (binary)\")\n",
        "\n",
        "# Perform bitwise XOR operation (^), which gives 0101 in binary or 5 in decimal\n",
        "xor_result = x ^ y\n",
        "print(f\"Bitwise XOR: {xor_result} (decimal), {bin(xor_result)} (binary)\")\n",
        "\n",
        "# Perform bitwise NOT operation (~), which inverts all the bits (2's complement representation)\n",
        "not_result_x = ~x\n",
        "not_result_y = ~y\n",
        "print(f\"Bitwise NOT (~x): {not_result_x} (decimal), {bin(not_result_x)} (binary)\")\n",
        "print(f\"Bitwise NOT (~y): {not_result_y} (decimal), {bin(not_result_y)} (binary)\")"
      ],
      "metadata": {
        "id": "XUyBMOc4U3ce",
        "colab": {
          "base_uri": "https://localhost:8080/"
        },
        "outputId": "658693b5-eaf1-430c-c304-69791920760e"
      },
      "execution_count": null,
      "outputs": [
        {
          "output_type": "stream",
          "name": "stdout",
          "text": [
            "Bitwise OR: 14 (decimal), 0b1110 (binary)\n",
            "Bitwise AND: 12 (decimal), 0b1100 (binary)\n",
            "Bitwise XOR: 2 (decimal), 0b10 (binary)\n",
            "Bitwise NOT (~x): -15 (decimal), -0b1111 (binary)\n",
            "Bitwise NOT (~y): -13 (decimal), -0b1101 (binary)\n"
          ]
        }
      ]
    },
    {
      "cell_type": "markdown",
      "source": [
        "### 4. Decision statements\n",
        "\n",
        "#### Find the largest two integers"
      ],
      "metadata": {
        "id": "F1tjoqe6U8VT"
      }
    },
    {
      "cell_type": "code",
      "source": [
        "# Read two numbers\n",
        "number1 = int(input(\"Enter the first number:  \"))\n",
        "number2 = int(input(\"Enter the second number:  \"))\n",
        "\n",
        "# Choose the larger number\n",
        "if (number1 > number2):\n",
        "    larger_number = number1\n",
        "else:\n",
        "    larger_number = number2\n",
        "\n",
        "# Print the result\n",
        "print(\"The larger number is:\", larger_number)\n"
      ],
      "metadata": {
        "id": "5hiwtoXpVDdD",
        "colab": {
          "base_uri": "https://localhost:8080/"
        },
        "outputId": "343ef247-0191-40dd-b905-b3cf71e855ba"
      },
      "execution_count": null,
      "outputs": [
        {
          "output_type": "stream",
          "name": "stdout",
          "text": [
            "Enter the first number:  54\n",
            "Enter the second number:  34\n",
            "The larger number is: 54\n"
          ]
        }
      ]
    },
    {
      "cell_type": "markdown",
      "source": [
        "#### Nested conditional statements"
      ],
      "metadata": {
        "id": "Sd6Yi7mbVQ0T"
      }
    },
    {
      "cell_type": "code",
      "source": [
        "x = 10\n",
        "\n",
        "if x > 5:  # True\n",
        "    if x == 6:  # False\n",
        "        print(\"nested: x == 6\")\n",
        "    elif x == 10:  # True\n",
        "        print(\"nested: x == 10\")\n",
        "    else:\n",
        "        print(\"nested: else\")\n",
        "else:\n",
        "    print(\"else\")"
      ],
      "metadata": {
        "id": "_j-EFKxRVW9L",
        "colab": {
          "base_uri": "https://localhost:8080/"
        },
        "outputId": "6202fc1f-9a89-43d6-9245-7d7b84a66f9d"
      },
      "execution_count": null,
      "outputs": [
        {
          "output_type": "stream",
          "name": "stdout",
          "text": [
            "nested: x == 10\n"
          ]
        }
      ]
    },
    {
      "cell_type": "markdown",
      "source": [
        "### 5. Problem-solving\n",
        "\n",
        "a. Find the largest three integers just using ```if``` statements. Take user inputs and display the result."
      ],
      "metadata": {
        "id": "moP3KtMHVcuH"
      }
    },
    {
      "cell_type": "code",
      "source": [
        "num1 = int(input(\"Enter the first number: \"))\n",
        "num2 = int(input(\"Enter the second number: \"))\n",
        "num3 = int(input(\"Enter the third number: \"))\n",
        "\n",
        "largest = num1\n",
        "\n",
        "if num2 > largest:\n",
        "    largest = num2\n",
        "\n",
        "if num3 > largest:\n",
        "    largest = num3\n",
        "\n",
        "\n",
        "print(\"The largest number is:\", largest)"
      ],
      "metadata": {
        "id": "3wtKiCOgVlZI",
        "colab": {
          "base_uri": "https://localhost:8080/"
        },
        "outputId": "34f9cf7d-ca3d-4e65-c50b-13780ec63557"
      },
      "execution_count": null,
      "outputs": [
        {
          "output_type": "stream",
          "name": "stdout",
          "text": [
            "Enter the first number: 24\n",
            "Enter the second number: 55\n",
            "Enter the third number: 67\n",
            "The largest number is: 67\n"
          ]
        }
      ]
    },
    {
      "cell_type": "markdown",
      "source": [
        "b. Identify multiple methods to determine if a number is even or odd. The user will input an integer, and the output will indicate whether it's \"odd\" or \"even.\" The code should be organized into sections, with comments separating each part. For example"
      ],
      "metadata": {
        "id": "bNRmk6MpVrdX"
      }
    },
    {
      "cell_type": "code",
      "source": [
        "#methood 1 modulo operator\n",
        "def method_1_even_odd(n):\n",
        " if n % 2 == 0:\n",
        "    print( \"even\")\n",
        " else:\n",
        "    print(\"Odd\")\n",
        "\n",
        "\n",
        "#method 2 Bitwise And(&) Operator\n",
        "def method_2_even_odd(n):\n",
        " if n & 1 == 0:\n",
        "    print(\"Even\")\n",
        " else:\n",
        "    print(\"Odd\")\n",
        "\n",
        "num=int (input(\"enter number:\"))\n",
        "method_1_even_odd(num)\n",
        "method_1_even_odd(num)"
      ],
      "metadata": {
        "id": "SaTUGktDV0YO",
        "colab": {
          "base_uri": "https://localhost:8080/"
        },
        "outputId": "bfaa3030-0223-4650-bd0b-e35091c1591a"
      },
      "execution_count": null,
      "outputs": [
        {
          "output_type": "stream",
          "name": "stdout",
          "text": [
            "enter number:23\n",
            "Odd\n",
            "Odd\n"
          ]
        }
      ]
    },
    {
      "cell_type": "markdown",
      "source": [
        "c. Implement the grading scheme for the CISC 179 course. The grading scheme as follows:\n",
        "\n",
        "|Grade|Percent|Description\n",
        "|-|-----|-|\n",
        "|A|>90|Work of genuinely superior quality.|\n",
        "|B|80-89|Passing performance falls approximately in the upper distribution of passing grades.|\n",
        "|C|71-79|Passing performance falls approximately in the center of the distribution of all passing grades.|\n",
        "|D|65-70|Passing performance falls approximately in the lower distribution of passing grades.|\n",
        "|F|<65|Failing performance that does not satisfy the basic requirements of the course and needs to be improved in significant ways.|\n",
        "\n",
        "The user inputs a percentage as an integer, and the output displays the corresponding grade along with a description. The logic uses ```if```, ```elif```, and ```else``` statements, with comments to clarify each part."
      ],
      "metadata": {
        "id": "AZFu1-vKNmH-"
      }
    },
    {
      "cell_type": "code",
      "source": [
        "# Function to determine grade and description based on input percentage\n",
        "def grade_scheme(percentage):\n",
        "    \"\"\"This function returns the grade and description based on the given percentage\"\"\"\n",
        "\n",
        "    # Check if the percentage is greater than 90\n",
        "    if percentage > 90:\n",
        "        grade = \"A\"\n",
        "        description = \"Work of genuinely superior quality.\"\n",
        "    # Check if the percentage is between 80 and 89\n",
        "    elif 80 <= percentage <= 89:\n",
        "        grade = \"B\"\n",
        "        description = \"Passing performance falls approximately in the upper distribution of passing grades.\"\n",
        "    # Check if the percentage is between 71 and 79\n",
        "    elif 71 <= percentage <= 79:\n",
        "        grade = \"C\"\n",
        "        description = \"Passing performance falls approximately in the center of the distribution of all passing grades.\"\n",
        "    # Check if the percentage is between 65 and 70\n",
        "    elif 65 <= percentage <= 70:\n",
        "        grade = \"D\"\n",
        "        description = \"Passing performance falls approximately in the lower distribution of passing grades.\"\n",
        "    # If the percentage is less than 65, it's a fail\n",
        "    else:\n",
        "        grade = \"F\"\n",
        "        description = \"Failing performance that does not satisfy the basic requirements of the course and needs to be improved in significant ways.\"\n",
        "\n",
        "    # Return the grade and description\n",
        "    return grade, description\n",
        "\n",
        "# Main function to get user input and display the corresponding grade and description\n",
        "def main():\n",
        "    try:\n",
        "        # Get the percentage as input from the user\n",
        "        percentage = int(input(\"Enter your percentage: \"))\n",
        "\n",
        "        # Ensure the percentage is between 0 and 100\n",
        "        if 0 <= percentage <= 100:\n",
        "            # Call the grade_scheme function to determine the grade and description\n",
        "            grade, description = grade_scheme(percentage)\n",
        "            # Output the result\n",
        "            print(f\"Your grade is: {grade}\")\n",
        "            print(f\"Description: {description}\")\n",
        "        else:\n",
        "            print(\"Invalid input! Please enter a percentage between 0 and 100.\")\n",
        "\n",
        "    except ValueError:\n",
        "        print(\"Invalid input! Please enter a valid integer for the percentage.\")\n",
        "\n",
        "# Run the program\n",
        "if __name__ == \"__main__\":\n",
        "    main()"
      ],
      "metadata": {
        "id": "9Sov9YAPNxbW",
        "colab": {
          "base_uri": "https://localhost:8080/"
        },
        "outputId": "9eb9c658-897e-437e-9dc4-34f9c900008c"
      },
      "execution_count": null,
      "outputs": [
        {
          "output_type": "stream",
          "name": "stdout",
          "text": [
            "Enter your percentage: 85\n",
            "Your grade is: B\n",
            "Description: Passing performance falls approximately in the upper distribution of passing grades.\n"
          ]
        }
      ]
    },
    {
      "cell_type": "markdown",
      "source": [
        "d. Write a code which takes ```and```, ```or```, ```not``` as an user input. Create a truth table by writing your expressions. Display the truth table using ```print()``` function. Research how the truth tables for logical operators are structured."
      ],
      "metadata": {
        "id": "s1QT0aCiN0I-"
      }
    },
    {
      "cell_type": "code",
      "source": [
        "operator = input(\"Enter a logical operator (and, or, not): \").strip().lower()\n",
        "\n",
        "# Function to generate and print the truth table\n",
        "def truth_table(operator):\n",
        "    # Possible truth values\n",
        "    truth_values = [True, False]\n",
        "\n",
        "    if operator == \"and\":\n",
        "        print(\"A\\tB\\tA and B\")\n",
        "        for A in truth_values:\n",
        "            for B in truth_values:\n",
        "                print(f\"{A}\\t{B}\\t{A and B}\")\n",
        "\n",
        "    elif operator == \"or\":\n",
        "        print(\"A\\tB\\tA or B\")\n",
        "        for A in truth_values:\n",
        "            for B in truth_values:\n",
        "                print(f\"{A}\\t{B}\\t{A or B}\")\n",
        "\n",
        "    elif operator == \"not\":\n",
        "        print(\"A\\tnot A\")\n",
        "        for A in truth_values:\n",
        "            print(f\"{A}\\t{not A}\")\n",
        "\n",
        "    else:\n",
        "        print(\"Invalid operator entered! Please use 'and', 'or', or 'not'.\")\n",
        "\n",
        "\n",
        "truth_table(operator)"
      ],
      "metadata": {
        "id": "c0nmbAaIN6Wy",
        "colab": {
          "base_uri": "https://localhost:8080/"
        },
        "outputId": "7db52425-c7b4-461b-a99d-db824dfbb6a9"
      },
      "execution_count": null,
      "outputs": [
        {
          "output_type": "stream",
          "name": "stdout",
          "text": [
            "Enter a logical operator (and, or, not): or\n",
            "A\tB\tA or B\n",
            "True\tTrue\tTrue\n",
            "True\tFalse\tTrue\n",
            "False\tTrue\tTrue\n",
            "False\tFalse\tFalse\n"
          ]
        }
      ]
    },
    {
      "cell_type": "markdown",
      "source": [
        "e. To determine whether an integer is even or odd using only a bitwise AND operator. The user will input an integer. Your code should utilize the bitwise AND operator to differentiate between even and odd numbers. Finally, use the print() function to display the result. Avoid using any modulus or remainder operators."
      ],
      "metadata": {
        "id": "N_T7SitKN8js"
      }
    },
    {
      "cell_type": "code",
      "source": [
        "num = int(input(\"Enter an integer: \"))\n",
        "\n",
        "# Use the bitwise AND operator to check the least significant bit\n",
        "if num & 1:\n",
        "    print(f\"{num} is odd\")\n",
        "else:\n",
        "    print(f\"{num} is even\")"
      ],
      "metadata": {
        "id": "4OWqwOyZN_rh",
        "colab": {
          "base_uri": "https://localhost:8080/"
        },
        "outputId": "9dc6343c-ce18-4d3a-ffaa-4913ea955ee3"
      },
      "execution_count": null,
      "outputs": [
        {
          "output_type": "stream",
          "name": "stdout",
          "text": [
            "Enter an integer: 5\n",
            "5 is odd\n"
          ]
        }
      ]
    },
    {
      "cell_type": "markdown",
      "source": [
        "### 6. Code revision\n",
        "Revise the code using **nested** ```if```, ```elif```, and ```else``` statements, and add comments to clarify the logic.\n",
        "```\n",
        "name = input(\"What's your name? \")\n",
        "time = int(input(\"What time is it? \"))\n",
        "\n",
        "if (time < 1200):\n",
        "    print(\"Hi \"+name + \", good morning!\")\n",
        "if (time < 1800):\n",
        "    print(\"Hi \"+name + \", good afternoon!\")\n",
        "if (time > 1800):\n",
        "    print(\"Hi \"+name + \", good evening!\")\n",
        "\n",
        "print(\"Good Bye\")\n",
        "```"
      ],
      "metadata": {
        "id": "zdv5pLLOPBBt"
      }
    },
    {
      "cell_type": "code",
      "source": [
        "name = input(\"What's your name? \")\n",
        "\n",
        "\n",
        "time = int(input(\"What time is it? \"))\n",
        "\n",
        "\n",
        "if time < 1200:\n",
        "\n",
        "    print(\"Hi \" + name + \", good morning!\")\n",
        "elif time < 1800:\n",
        "\n",
        "    print(\"Hi \" + name + \", good afternoon!\")\n",
        "else:\n",
        "\n",
        "    print(\"Hi \" + name + \", good evening!\")\n",
        "\n",
        "print(\"Good Bye\")"
      ],
      "metadata": {
        "id": "nwi9yMjyPHok",
        "colab": {
          "base_uri": "https://localhost:8080/"
        },
        "outputId": "709425d2-90eb-4017-c7d0-abc0c2ac1ad4"
      },
      "execution_count": null,
      "outputs": [
        {
          "output_type": "stream",
          "name": "stdout",
          "text": [
            "What's your name? Sarah\n",
            "What time is it? 1248\n",
            "Hi Sarah, good afternoon!\n",
            "Good Bye\n"
          ]
        }
      ]
    },
    {
      "cell_type": "markdown",
      "source": [
        "### 7. Output verification\n",
        "What will be the output of the code provided below **without using Python**?\n",
        "```python\n",
        "x = 1\n",
        "y = 1.0\n",
        "z = \"1\"\n",
        "\n",
        "if x == y:\n",
        "    print(\"one\")\n",
        "if y == int(z):\n",
        "    print(\"two\")\n",
        "elif x == y:\n",
        "    print(\"three\")\n",
        "else:\n",
        "    print(\"four\")\n",
        "```\n",
        "Please execute the code provided above in Python to confirm your result.\n",
        "```\n",
        "one\n",
        "two\n",
        "```"
      ],
      "metadata": {
        "id": "ul0eL03uPt_P"
      }
    },
    {
      "cell_type": "code",
      "source": [
        "x = 1\n",
        "y = 1.0\n",
        "z = \"1\"\n",
        "\n",
        "if x == y:\n",
        "    print(\"one\")\n",
        "if y == int(z):\n",
        "    print(\"two\")\n",
        "elif x == y:\n",
        "    print(\"three\")\n",
        "else:\n",
        "    print(\"four\")"
      ],
      "metadata": {
        "id": "Rr4lTEWbP0ow",
        "colab": {
          "base_uri": "https://localhost:8080/"
        },
        "outputId": "38384b11-61f9-4edb-cddd-8e7234cc2128"
      },
      "execution_count": null,
      "outputs": [
        {
          "output_type": "stream",
          "name": "stdout",
          "text": [
            "one\n",
            "two\n"
          ]
        }
      ]
    },
    {
      "cell_type": "markdown",
      "source": [
        "## Challenges\n",
        "\n",
        "Please describe the challenges you faced during the exercise."
      ],
      "metadata": {
        "id": "xQzjxKdvvbyo"
      }
    },
    {
      "cell_type": "markdown",
      "source": [
        "  I did not have a lot of chalenges this time as it was a lot of just inputing information. I feel like I understood this section very well."
      ],
      "metadata": {
        "id": "qfJNpTB5EbY4"
      }
    }
  ]
}