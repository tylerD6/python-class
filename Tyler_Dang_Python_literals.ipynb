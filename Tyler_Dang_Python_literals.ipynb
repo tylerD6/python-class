{
  "nbformat": 4,
  "nbformat_minor": 0,
  "metadata": {
    "colab": {
      "provenance": [],
      "toc_visible": true,
      "include_colab_link": true
    },
    "kernelspec": {
      "name": "python3",
      "display_name": "Python 3"
    },
    "language_info": {
      "name": "python"
    }
  },
  "cells": [
    {
      "cell_type": "markdown",
      "metadata": {
        "id": "view-in-github",
        "colab_type": "text"
      },
      "source": [
        "<a href=\"https://colab.research.google.com/github/tylerD6/python-class/blob/main/Tyler_Dang_Python_literals.ipynb\" target=\"_parent\"><img src=\"https://colab.research.google.com/assets/colab-badge.svg\" alt=\"Open In Colab\"/></a>"
      ]
    },
    {
      "cell_type": "markdown",
      "source": [
        "# Python literals\n",
        "\n",
        "## Objective\n",
        "1. Understand how Python uses literals.\n",
        "2. Differentiate Integer, Float, Boolean and String data types.\n",
        "3. Understanding how arithmetic operations are performed and recognizing the precedence of operators.\n",
        "\n",
        "## Prerequisite\n",
        "\n",
        "- Python & literals lecture\n",
        "\n",
        "## What do you need to complete this exercise?\n",
        "\n",
        "You can perform this exercise in any Python IDE, including JupyterLab or Google Colab."
      ],
      "metadata": {
        "id": "2ITy4ycVFXBq"
      }
    },
    {
      "cell_type": "markdown",
      "source": [
        "### Literals\n",
        "\n",
        "a) What will the output be without using Python? Aim for 80% accuracy.\n",
        "\n",
        "```print(5 + 2 - 2)```\n",
        "\n",
        "```print(5 / 2)```\n",
        "\n",
        "```print(6 // 2) # // integer division```\n",
        "\n",
        "```print(2. * 3)```\n",
        "\n",
        "```print(2 < 4)```\n",
        "\n",
        "```print(2 >= 2)```\n",
        "\n",
        "```print(\"Hello\"+\"World\")```\n",
        "\n",
        "```print(\"bla\" * 3)```\n",
        "\n",
        "```print(2 * 3 ** 3)```\n",
        "\n",
        "```print(5 * 25 // 13 + 100 / 2 % 13 // 2)```\n",
        "\n",
        "```print(2 * 3 % 5)```\n",
        "\n",
        "```print((2 % -4), (2 % 4), (2 ** 3 ** 2))```\n"
      ],
      "metadata": {
        "id": "uQxH0KO0tsDc"
      }
    },
    {
      "cell_type": "markdown",
      "source": [
        "b) Please verify using Python to determine if you have achieved at least 80% correct answers."
      ],
      "metadata": {
        "id": "4HjghxnSJgY1"
      }
    },
    {
      "cell_type": "code",
      "source": [
        "print(5 + 2 - 2)\n",
        "print(5 / 2)\n",
        "print(6 // 2)\n",
        "print(2. * 3)\n",
        "print(2 < 4)\n",
        "print(2 >= 2)\n",
        "print(\"Hello\"+\"World\")\n",
        "print(\"bla\" * 3)\n",
        "print(2 * 3 ** 3)\n",
        "print(5 * 25 // 13 + 100 / 2 % 13 // 2)\n",
        "print(2 * 3 % 5)\n",
        "print((2 % -4), (2 % 4), (2 ** 3 ** 2))\n",
        "#Outputs\n",
        "#5\n",
        "#2.5\n",
        "#3\n",
        "#6.0\n",
        "#True\n",
        "#True\n",
        "#HelloWorld\n",
        "#blablabla\n",
        "#54\n",
        "#14.0\n",
        "#1\n",
        "#-2 2 512"
      ],
      "metadata": {
        "id": "tLQh-A7Kt70H",
        "colab": {
          "base_uri": "https://localhost:8080/"
        },
        "outputId": "ab92c21b-841c-4a8b-d716-a9fbc55764a6"
      },
      "execution_count": 7,
      "outputs": [
        {
          "output_type": "stream",
          "name": "stdout",
          "text": [
            "5\n",
            "2.5\n",
            "3\n",
            "6.0\n",
            "True\n",
            "True\n",
            "HelloWorld\n",
            "blablabla\n",
            "54\n",
            "14.0\n",
            "1\n",
            "-2 2 512\n"
          ]
        }
      ]
    },
    {
      "cell_type": "markdown",
      "source": [
        "### Data type\n"
      ],
      "metadata": {
        "id": "58GMVBXqKY89"
      }
    },
    {
      "cell_type": "markdown",
      "source": [
        "a) What will the output be without using Python? Aim for 80% accuracy.\n",
        "```type(\"Hello\")```\n",
        "\n",
        "```type(1+\"2\")```\n",
        "\n",
        "```type(1.)```\n",
        "\n",
        "```type('A')```\n",
        "\n",
        "```type(500)```\n",
        "\n",
        "```type(True)```\n",
        "\n",
        "```type(\"False\")```\n"
      ],
      "metadata": {
        "id": "f3_kJZnHKolp"
      }
    },
    {
      "cell_type": "markdown",
      "source": [
        "Answer here"
      ],
      "metadata": {
        "id": "TZ3zlabVMebV"
      }
    },
    {
      "cell_type": "markdown",
      "source": [
        "b) Please verify using Python to determine if you have achieved at least 80% correct answers."
      ],
      "metadata": {
        "id": "LmwF2Rg2Li7M"
      }
    },
    {
      "cell_type": "code",
      "source": [
        "#not a type\n",
        "#float\n",
        "#str\n",
        "#integer\n",
        "#boolean\n",
        "#str"
      ],
      "metadata": {
        "id": "kLoyOaLLLnSK",
        "colab": {
          "base_uri": "https://localhost:8080/"
        },
        "outputId": "183ee5f5-ea22-4f0b-93a2-04a434af070b"
      },
      "execution_count": 14,
      "outputs": [
        {
          "output_type": "execute_result",
          "data": {
            "text/plain": [
              "bool"
            ]
          },
          "metadata": {},
          "execution_count": 14
        }
      ]
    },
    {
      "cell_type": "markdown",
      "source": [
        "### Operator precedence"
      ],
      "metadata": {
        "id": "WpQLLdj7Lr4K"
      }
    },
    {
      "cell_type": "markdown",
      "source": [
        "a) Write your arithmetic expression that uses at least one operator from each group. For example ```5 * 25 % 13 + 100 / -2 * 13 // 2 ** 3```"
      ],
      "metadata": {
        "id": "DdtOLAZfLz8X"
      }
    },
    {
      "cell_type": "code",
      "source": [
        "10%6+50/2//3**2\n",
        "\n",
        "\n"
      ],
      "metadata": {
        "id": "iJH2iRokL14f",
        "colab": {
          "base_uri": "https://localhost:8080/"
        },
        "outputId": "a4ab37f7-1f28-41e1-ef67-9416edbc12d1"
      },
      "execution_count": 25,
      "outputs": [
        {
          "output_type": "execute_result",
          "data": {
            "text/plain": [
              "6.0"
            ]
          },
          "metadata": {},
          "execution_count": 25
        }
      ]
    },
    {
      "cell_type": "markdown",
      "source": [
        "b) What will the output be without using Python after writing your arithmetic expression? Use the table below for your reference."
      ],
      "metadata": {
        "id": "C8NjhQrfMILL"
      }
    },
    {
      "cell_type": "markdown",
      "source": [
        "| Priority | Operator                                                     | Notes                    |\n",
        "| :------- | :----------------------------------------------------------- | :----------------------- |\n",
        "| 1        | `**`                                                         | Right to left evaluation |\n",
        "| 2        | `+`, `-` (note: unary operators located next to the right of the power operator bind more strongly) | unary                    |\n",
        "| 3        | `*`, `/`, `//`, `%`                                          | Left to right evaluation |\n",
        "| 4        | `+`, `-`                                                     | binary                   |"
      ],
      "metadata": {
        "id": "DqRqRrNsMPRp"
      }
    },
    {
      "cell_type": "markdown",
      "source": [
        "6.0"
      ],
      "metadata": {
        "id": "cKsvL_1JMRVJ"
      }
    },
    {
      "cell_type": "markdown",
      "source": [
        "c) Please verify using Python to determine if you have done it correctly."
      ],
      "metadata": {
        "id": "9micAN0HM2VI"
      }
    },
    {
      "cell_type": "code",
      "source": [
        "print(\"6.0\")\n",
        "10%6+50/2//3**2\n",
        "\n"
      ],
      "metadata": {
        "id": "oyX3LQADM4IY",
        "colab": {
          "base_uri": "https://localhost:8080/"
        },
        "collapsed": true,
        "outputId": "9c631873-374a-4523-c3f4-b2fecddfe3fd"
      },
      "execution_count": 32,
      "outputs": [
        {
          "output_type": "stream",
          "name": "stdout",
          "text": [
            "6.0\n"
          ]
        },
        {
          "output_type": "execute_result",
          "data": {
            "text/plain": [
              "6.0"
            ]
          },
          "metadata": {},
          "execution_count": 32
        }
      ]
    },
    {
      "cell_type": "markdown",
      "source": [
        "## Challenges\n",
        "\n",
        "Please describe the challenges you faced during the exercise."
      ],
      "metadata": {
        "id": "xQzjxKdvvbyo"
      }
    },
    {
      "cell_type": "markdown",
      "source": [
        "During this exercise, the most challenging thing was figuring out the order of operations combined with the new operations the python has compared to other math I've done."
      ],
      "metadata": {
        "id": "qfJNpTB5EbY4"
      }
    }
  ]
}