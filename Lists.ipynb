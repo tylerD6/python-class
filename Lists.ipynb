{
  "nbformat": 4,
  "nbformat_minor": 0,
  "metadata": {
    "colab": {
      "provenance": [],
      "include_colab_link": true
    },
    "kernelspec": {
      "name": "python3",
      "display_name": "Python 3"
    },
    "language_info": {
      "name": "python"
    }
  },
  "cells": [
    {
      "cell_type": "markdown",
      "metadata": {
        "id": "view-in-github",
        "colab_type": "text"
      },
      "source": [
        "<a href=\"https://colab.research.google.com/github/tylerD6/python-class/blob/main/Lists.ipynb\" target=\"_parent\"><img src=\"https://colab.research.google.com/assets/colab-badge.svg\" alt=\"Open In Colab\"/></a>"
      ]
    },
    {
      "cell_type": "markdown",
      "source": [
        "# Lists in Python\n",
        "A list is an ordered collection of elements, and each element can be of any data type, such as numbers, strings, Booleans, or even other lists. In Python, lists are mutable, meaning their contents can be changed. Lists are particularly useful when you want to handle a group of related values.\n",
        "\n",
        "## Objective\n",
        "- Comprehend the application of lists\n",
        "- Understand how a list uses memory\n",
        "- Apply various operations on a list\n",
        "\n",
        "## Prerequisite\n",
        "\n",
        "- Decision statements\n",
        "- Input functions\n",
        "- Python literals\n",
        "- Programming variables\n",
        "\n",
        "\n",
        "## What do you need to complete this exercise?\n",
        "\n",
        "You can perform this exercise in any Python IDE, including JupyterLab or Google Colab.\n"
      ],
      "metadata": {
        "id": "2ITy4ycVFXBq"
      }
    },
    {
      "cell_type": "markdown",
      "source": [
        "a) a. Using a range function, generate a list of 100 integers and assign the list to ```my_list```. Verify that the variable ```my_list``` data type is list. Use your favorite four methods and apply on the list. You can find the methods on [Python Docs](https://docs.python.org/3/tutorial/datastructures.html)"
      ],
      "metadata": {
        "id": "uQxH0KO0tsDc"
      }
    },
    {
      "cell_type": "code",
      "source": [
        "my_list = [1,2,3]\n",
        "x = 0\n",
        "while(x < 100):\n",
        "  my_list.append(x)\n",
        "  x+=1\n",
        "\n",
        "print(my_list)\n",
        "type(my_list)\n"
      ],
      "metadata": {
        "id": "rRTflD1C9mjt",
        "outputId": "24869420-b05a-4a16-e130-b73a80b2c361",
        "colab": {
          "base_uri": "https://localhost:8080/"
        }
      },
      "execution_count": 4,
      "outputs": [
        {
          "output_type": "stream",
          "name": "stdout",
          "text": [
            "[1, 2, 3, 0, 1, 2, 3, 4, 5, 6, 7, 8, 9, 10, 11, 12, 13, 14, 15, 16, 17, 18, 19, 20, 21, 22, 23, 24, 25, 26, 27, 28, 29, 30, 31, 32, 33, 34, 35, 36, 37, 38, 39, 40, 41, 42, 43, 44, 45, 46, 47, 48, 49, 50, 51, 52, 53, 54, 55, 56, 57, 58, 59, 60, 61, 62, 63, 64, 65, 66, 67, 68, 69, 70, 71, 72, 73, 74, 75, 76, 77, 78, 79, 80, 81, 82, 83, 84, 85, 86, 87, 88, 89, 90, 91, 92, 93, 94, 95, 96, 97, 98, 99]\n"
          ]
        },
        {
          "output_type": "execute_result",
          "data": {
            "text/plain": [
              "list"
            ]
          },
          "metadata": {},
          "execution_count": 4
        }
      ]
    },
    {
      "cell_type": "markdown",
      "source": [
        "b. Suppose that you have a list of 10 items long. How might you move the last three items from the end of the list to the beginning, keeping them in the same order?"
      ],
      "metadata": {
        "id": "0jkTuRdlA6sk"
      }
    },
    {
      "cell_type": "code",
      "source": [
        "mylist = [1,2,3,4,5,6,7,8,9,10]\n",
        "x = 10\n",
        "while (x > 7):\n",
        "  mylist.insert(0,x)\n",
        "  x-=1\n",
        "\n",
        "print(mylist)"
      ],
      "metadata": {
        "id": "8ZIVOfAMQt2Z",
        "outputId": "95347d9b-be84-441b-85a7-30f57e085c81",
        "colab": {
          "base_uri": "https://localhost:8080/"
        }
      },
      "execution_count": 24,
      "outputs": [
        {
          "output_type": "stream",
          "name": "stdout",
          "text": [
            "[]\n"
          ]
        }
      ]
    },
    {
      "cell_type": "markdown",
      "source": [
        "c. What would be the result of ```len([[1,2]] * 3)```? Try to do it without coding and then verify using Python."
      ],
      "metadata": {
        "id": "Wv1LOaouA_Gq"
      }
    },
    {
      "cell_type": "code",
      "source": [
        "# return 3, because there are 3 items within the len function"
      ],
      "metadata": {
        "id": "cF0UyMIqQ8V3"
      },
      "execution_count": null,
      "outputs": []
    },
    {
      "cell_type": "markdown",
      "source": [
        "d. Create a list ```my-list-ten``` of 10 items that includes some duplicate entries. Then, generate a second list ```my-list-ten-mem``` that contains the memory addresses of the items from the list ```my-list-ten```. Use Python to research and identify the unique and duplicate memory addresses."
      ],
      "metadata": {
        "id": "0IWZsl7LBGvD"
      }
    },
    {
      "cell_type": "code",
      "source": [
        "list = [1,2,3,4,5,1,2,3,4,5]\n",
        "newList = []\n",
        "x = 0\n",
        "\n",
        "while(x < 10):\n",
        "  newList.append(id(list[x]))\n",
        "  x+=1\n",
        "\n",
        "print(newList)\n"
      ],
      "metadata": {
        "id": "S5kO371-Q_NL",
        "outputId": "41b893cb-4a72-41ed-cf23-651d8c3fd3a4",
        "colab": {
          "base_uri": "https://localhost:8080/"
        }
      },
      "execution_count": 32,
      "outputs": [
        {
          "output_type": "stream",
          "name": "stdout",
          "text": [
            "[10750856, 10750888, 10750920, 10750952, 10750984, 10750856, 10750888, 10750920, 10750952, 10750984]\n"
          ]
        }
      ]
    },
    {
      "cell_type": "markdown",
      "source": [
        "e. Delete the list ```my-list-ten``` created in the above step."
      ],
      "metadata": {
        "id": "tJlIQIYjBPLX"
      }
    },
    {
      "cell_type": "code",
      "source": [
        "list = [1,2,3,4,5,6,7,8,9,10]\n",
        "del(list)\n",
        "print(list)"
      ],
      "metadata": {
        "id": "fQr5X9N0RceU",
        "outputId": "51654d70-11da-42c4-9aa0-843bd8eb24e4",
        "colab": {
          "base_uri": "https://localhost:8080/"
        }
      },
      "execution_count": 34,
      "outputs": [
        {
          "output_type": "stream",
          "name": "stdout",
          "text": [
            "<class 'list'>\n"
          ]
        }
      ]
    },
    {
      "cell_type": "markdown",
      "source": [
        "f. Create a new list ```my-new-list``` of the same 10 items used in ```my-list-ten```. Generate memory addresses of the items in ```my-new-list``` and compare them with the memory addresses in ```my-list-ten-mem```. Discuss what do you observe."
      ],
      "metadata": {
        "id": "jflVX2GHBT3-"
      }
    },
    {
      "cell_type": "code",
      "source": [
        "newList = [1,2,3,4,5,1,2,3,4,5]\n",
        "memList = []\n",
        "x = 0\n",
        "while(x < 10):\n",
        "  memList.append(hex(newList[x]))\n",
        "  x+=1\n",
        "\n",
        "print(memList)"
      ],
      "metadata": {
        "id": "QacofGe4RdZX",
        "outputId": "1f5a88fa-8c07-4d92-8025-b8a2f0983031",
        "colab": {
          "base_uri": "https://localhost:8080/"
        }
      },
      "execution_count": 36,
      "outputs": [
        {
          "output_type": "stream",
          "name": "stdout",
          "text": [
            "['0x1', '0x2', '0x3', '0x4', '0x5', '0x1', '0x2', '0x3', '0x4', '0x5']\n"
          ]
        }
      ]
    },
    {
      "cell_type": "markdown",
      "source": [
        "g. Suppose that you have the following list: ```x = [[1, 2, 3], [4, 5, 6], [7, 8, 9]]```. What code could you use to get a copy ```y``` of that list in which you could change the elements without the side effect of changing the contents of ```x```?"
      ],
      "metadata": {
        "id": "BRZq7VPZBYsN"
      }
    },
    {
      "cell_type": "code",
      "source": [
        "import copy\n",
        "x = [[1, 2, 3], [4, 5, 6], [7, 8, 9]]\n",
        "copyied = copy.deepcopy(x)\n",
        "\n",
        "print(copyied)\n",
        "\n"
      ],
      "metadata": {
        "id": "5M7ksW8xsC3k",
        "outputId": "50e50b0f-8f68-420e-e6bd-3c8601ca004a",
        "colab": {
          "base_uri": "https://localhost:8080/"
        }
      },
      "execution_count": 37,
      "outputs": [
        {
          "output_type": "stream",
          "name": "stdout",
          "text": [
            "[[1, 2, 3], [4, 5, 6], [7, 8, 9]]\n"
          ]
        }
      ]
    },
    {
      "cell_type": "markdown",
      "source": [
        "h. Is it possible to use multiple expressions within a list comprehension?"
      ],
      "metadata": {
        "id": "LUIwtfcJBnsq"
      }
    },
    {
      "cell_type": "code",
      "source": [
        "# True"
      ],
      "metadata": {
        "id": "7xxHmgPKBoSc"
      },
      "execution_count": null,
      "outputs": []
    },
    {
      "cell_type": "markdown",
      "source": [
        "i. Using a list comprehension, count how many spaces are in the following statement.\n",
        "\"To be, or not to be, this is the question\""
      ],
      "metadata": {
        "id": "dV-_5n78BxH4"
      }
    },
    {
      "cell_type": "code",
      "source": [
        "sentence = \"To be, or not to be, this is the question\"\n",
        "spaces = sum([1 for char in sentence if char == \" \"])\n",
        "print(spaces)"
      ],
      "metadata": {
        "id": "1C6WRbQ1I_up",
        "outputId": "9080bf6c-743c-42eb-8d2b-b7d272827b21",
        "colab": {
          "base_uri": "https://localhost:8080/"
        }
      },
      "execution_count": 39,
      "outputs": [
        {
          "output_type": "stream",
          "name": "stdout",
          "text": [
            "9\n"
          ]
        }
      ]
    },
    {
      "cell_type": "markdown",
      "source": [
        "j. Choose any 5 lists operations of your choice from the link https://docs.python.org/3/tutorial/datastructures.html\n"
      ],
      "metadata": {
        "id": "QJQ3mnTyIz7c"
      }
    },
    {
      "cell_type": "code",
      "source": [
        "# list.append, list.remove, list.extend, list.insert, list.clear"
      ],
      "metadata": {
        "id": "7JcT_W26B0Nu"
      },
      "execution_count": null,
      "outputs": []
    },
    {
      "cell_type": "markdown",
      "source": [
        "## Challenges\n",
        "\n",
        "Please describe the challenges you faced during the exercise."
      ],
      "metadata": {
        "id": "xQzjxKdvvbyo"
      }
    },
    {
      "cell_type": "markdown",
      "source": [
        "I had some challenges with question i, I had to further research list comprehension to understand how to complete this task"
      ],
      "metadata": {
        "id": "qfJNpTB5EbY4"
      }
    }
  ]
}