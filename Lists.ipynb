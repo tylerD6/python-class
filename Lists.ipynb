{
  "nbformat": 4,
  "nbformat_minor": 0,
  "metadata": {
    "colab": {
      "provenance": [],
      "include_colab_link": true
    },
    "kernelspec": {
      "name": "python3",
      "display_name": "Python 3"
    },
    "language_info": {
      "name": "python"
    }
  },
  "cells": [
    {
      "cell_type": "markdown",
      "metadata": {
        "id": "view-in-github",
        "colab_type": "text"
      },
      "source": [
        "<a href=\"https://colab.research.google.com/github/tylerD6/python-class/blob/main/Lists.ipynb\" target=\"_parent\"><img src=\"https://colab.research.google.com/assets/colab-badge.svg\" alt=\"Open In Colab\"/></a>"
      ]
    },
    {
      "cell_type": "markdown",
      "source": [
        "# Lists in Python\n",
        "A list is an ordered collection of elements, and each element can be of any data type, such as numbers, strings, Booleans, or even other lists. In Python, lists are mutable, meaning their contents can be changed. Lists are particularly useful when you want to handle a group of related values.\n",
        "\n",
        "## Objective\n",
        "- Comprehend the application of lists\n",
        "- Understand how a list uses memory\n",
        "- Apply various operations on a list\n",
        "\n",
        "## Prerequisite\n",
        "\n",
        "- Decision statements\n",
        "- Input functions\n",
        "- Python literals\n",
        "- Programming variables\n",
        "\n",
        "\n",
        "## What do you need to complete this exercise?\n",
        "\n",
        "You can perform this exercise in any Python IDE, including JupyterLab or Google Colab.\n"
      ],
      "metadata": {
        "id": "2ITy4ycVFXBq"
      }
    },
    {
      "cell_type": "markdown",
      "source": [
        "a) a. Using a range function, generate a list of 100 integers and assign the list to ```my_list```. Verify that the variable ```my_list``` data type is list. Use your favorite four methods and apply on the list. You can find the methods on [Python Docs](https://docs.python.org/3/tutorial/datastructures.html)"
      ],
      "metadata": {
        "id": "uQxH0KO0tsDc"
      }
    },
    {
      "cell_type": "code",
      "source": [
        "# Write your code here."
      ],
      "metadata": {
        "id": "rRTflD1C9mjt"
      },
      "execution_count": null,
      "outputs": []
    },
    {
      "cell_type": "markdown",
      "source": [
        "b. Suppose that you have a list of 10 items long. How might you move the last three items from the end of the list to the beginning, keeping them in the same order?"
      ],
      "metadata": {
        "id": "0jkTuRdlA6sk"
      }
    },
    {
      "cell_type": "code",
      "source": [
        "# Write your code here."
      ],
      "metadata": {
        "id": "8ZIVOfAMQt2Z"
      },
      "execution_count": null,
      "outputs": []
    },
    {
      "cell_type": "markdown",
      "source": [
        "c. What would be the result of ```len([[1,2]] * 3)```? Try to do it without coding and then verify using Python."
      ],
      "metadata": {
        "id": "Wv1LOaouA_Gq"
      }
    },
    {
      "cell_type": "code",
      "source": [
        "# Write your code here."
      ],
      "metadata": {
        "id": "cF0UyMIqQ8V3"
      },
      "execution_count": null,
      "outputs": []
    },
    {
      "cell_type": "markdown",
      "source": [
        "d. Create a list ```my-list-ten``` of 10 items that includes some duplicate entries. Then, generate a second list ```my-list-ten-mem``` that contains the memory addresses of the items from the list ```my-list-ten```. Use Python to research and identify the unique and duplicate memory addresses."
      ],
      "metadata": {
        "id": "0IWZsl7LBGvD"
      }
    },
    {
      "cell_type": "code",
      "source": [
        "# Write your code here."
      ],
      "metadata": {
        "id": "S5kO371-Q_NL"
      },
      "execution_count": null,
      "outputs": []
    },
    {
      "cell_type": "markdown",
      "source": [
        "e. Delete the list ```my-list-ten``` created in the above step."
      ],
      "metadata": {
        "id": "tJlIQIYjBPLX"
      }
    },
    {
      "cell_type": "code",
      "source": [
        "# Write your code here."
      ],
      "metadata": {
        "id": "fQr5X9N0RceU"
      },
      "execution_count": null,
      "outputs": []
    },
    {
      "cell_type": "markdown",
      "source": [
        "f. Create a new list ```my-new-list``` of the same 10 items used in ```my-list-ten```. Generate memory addresses of the items in ```my-new-list``` and compare them with the memory addresses in ```my-list-ten-mem```. Discuss what do you observe."
      ],
      "metadata": {
        "id": "jflVX2GHBT3-"
      }
    },
    {
      "cell_type": "code",
      "source": [
        "# Write your code here."
      ],
      "metadata": {
        "id": "QacofGe4RdZX"
      },
      "execution_count": null,
      "outputs": []
    },
    {
      "cell_type": "markdown",
      "source": [
        "g. Suppose that you have the following list: ```x = [[1, 2, 3], [4, 5, 6], [7, 8, 9]]```. What code could you use to get a copy ```y``` of that list in which you could change the elements without the side effect of changing the contents of ```x```?"
      ],
      "metadata": {
        "id": "BRZq7VPZBYsN"
      }
    },
    {
      "cell_type": "code",
      "source": [
        "x = [[1, 2, 3], [4, 5, 6], [7, 8, 9]]\n",
        "# Write your code here."
      ],
      "metadata": {
        "id": "5M7ksW8xsC3k"
      },
      "execution_count": null,
      "outputs": []
    },
    {
      "cell_type": "markdown",
      "source": [
        "h. Is it possible to use multiple expressions within a list comprehension?"
      ],
      "metadata": {
        "id": "LUIwtfcJBnsq"
      }
    },
    {
      "cell_type": "code",
      "source": [
        "# True or False"
      ],
      "metadata": {
        "id": "7xxHmgPKBoSc"
      },
      "execution_count": null,
      "outputs": []
    },
    {
      "cell_type": "markdown",
      "source": [
        "i. Using a list comprehension, count how many spaces are in the following statement.\n",
        "\"To be, or not to be, this is the question\""
      ],
      "metadata": {
        "id": "dV-_5n78BxH4"
      }
    },
    {
      "cell_type": "code",
      "source": [
        "# Write your code here."
      ],
      "metadata": {
        "id": "1C6WRbQ1I_up"
      },
      "execution_count": null,
      "outputs": []
    },
    {
      "cell_type": "markdown",
      "source": [
        "j. Choose any 5 lists operations of your choice from the link https://docs.python.org/3/tutorial/datastructures.html\n"
      ],
      "metadata": {
        "id": "QJQ3mnTyIz7c"
      }
    },
    {
      "cell_type": "code",
      "source": [
        "# Write your code here."
      ],
      "metadata": {
        "id": "7JcT_W26B0Nu"
      },
      "execution_count": null,
      "outputs": []
    },
    {
      "cell_type": "markdown",
      "source": [
        "## Challenges\n",
        "\n",
        "Please describe the challenges you faced during the exercise."
      ],
      "metadata": {
        "id": "xQzjxKdvvbyo"
      }
    },
    {
      "cell_type": "markdown",
      "source": [
        "Write your challenges here"
      ],
      "metadata": {
        "id": "qfJNpTB5EbY4"
      }
    }
  ]
}