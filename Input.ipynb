{
  "nbformat": 4,
  "nbformat_minor": 0,
  "metadata": {
    "colab": {
      "provenance": [],
      "include_colab_link": true
    },
    "kernelspec": {
      "name": "python3",
      "display_name": "Python 3"
    },
    "language_info": {
      "name": "python"
    }
  },
  "cells": [
    {
      "cell_type": "markdown",
      "metadata": {
        "id": "view-in-github",
        "colab_type": "text"
      },
      "source": [
        "<a href=\"https://colab.research.google.com/github/tylerD6/python-class/blob/main/Input.ipynb\" target=\"_parent\"><img src=\"https://colab.research.google.com/assets/colab-badge.svg\" alt=\"Open In Colab\"/></a>"
      ]
    },
    {
      "cell_type": "markdown",
      "source": [
        "# User input in Python\n",
        "\n",
        "## Objective\n",
        "1. Understand how ```input()``` function is applied.\n",
        "\n",
        "## Prerequisite\n",
        "\n",
        "- Python literals lecture & lab\n",
        "- Programming variables lecture\n",
        "\n",
        "## What do you need to complete this exercise?\n",
        "\n",
        "You can perform this exercise in any Python IDE, including JupyterLab or Google Colab.\n"
      ],
      "metadata": {
        "id": "2ITy4ycVFXBq"
      }
    },
    {
      "cell_type": "markdown",
      "source": [
        "### User input\n",
        "\n",
        "a. Write a program that prompts the user to enter the weight of a person in kilograms and outputs the equivalent weight in pounds. (Note that 1 kilogram = 2.2 pounds)."
      ],
      "metadata": {
        "id": "uQxH0KO0tsDc"
      }
    },
    {
      "cell_type": "code",
      "source": [
        "# Write your code here\n",
        "# Hint: Use int() or float() to convert the user input into an integer or float\n",
        "x = \"10\"\n",
        "print(type(x))\n",
        "x = int(x)\n",
        "print(type(x))\n",
        "kilo = int(input(\"Enter Weight in Kilos: \"))\n",
        "pounds = kilo * 2.2\n",
        "print(pounds)\n"
      ],
      "metadata": {
        "colab": {
          "base_uri": "https://localhost:8080/"
        },
        "id": "N3wgQQ672rWR",
        "outputId": "6038fbaf-428f-4297-a1ea-750330e48d59"
      },
      "execution_count": 21,
      "outputs": [
        {
          "output_type": "stream",
          "name": "stdout",
          "text": [
            "<class 'str'>\n",
            "<class 'int'>\n",
            "Enter Weight in Kilos: 100\n",
            "220.00000000000003\n"
          ]
        }
      ]
    },
    {
      "cell_type": "markdown",
      "source": [
        "b. Interest on a credit card's unpaid balance is calculated using the average daily balance. Suppose that $netBalance$ is the balance shown in the bill, $payment$ is the payment made, $d1$ is the number of days in the billing cycle, and $d2$ is the number of days payment is made before biling cycle. Then, the average daily balance is: $$averageDailybalance = (netBalance \\times d1 - payment \\times d2)/d1$$.\n",
        "\n",
        "If the interest rate per month is, say, 0.0152, then the interest on the unpaid balance is: $interest = averageDailyBalance \\times 0.0152$\n",
        "\n",
        "Write a program that accepts as input $netBalance$, $payment$, $d1$, $d2$, and $interest rate per month$. The program outputs the interest."
      ],
      "metadata": {
        "id": "2ou6B-5b2ws3"
      }
    },
    {
      "cell_type": "code",
      "source": [
        "netBalance = float(input(\"net balance:\"))\n",
        "payment = float(input(\"payment:\"))\n",
        "d1 = int(input(\"d1:\"))\n",
        "d2 = int(input(\"d2:\"))\n",
        "intRate = float(input(\"intRate:\"))\n",
        "\n",
        "var1 = netBalance * d1\n",
        "var2 = payment * d2\n",
        "var3 = var1 - var2\n",
        "var4 = var3 / d1\n",
        "var5 = var4 * intRate\n",
        "print(var5)"
      ],
      "metadata": {
        "id": "pqP70bD02x9h",
        "outputId": "f04a6925-740d-414b-a56b-3e4d36cbed0c",
        "colab": {
          "base_uri": "https://localhost:8080/"
        }
      },
      "execution_count": 26,
      "outputs": [
        {
          "output_type": "stream",
          "name": "stdout",
          "text": [
            "net balance:100\n",
            "payment:50\n",
            "d1:4\n",
            "d2:3\n",
            "intRate:0.0152\n",
            "0.95\n"
          ]
        }
      ]
    },
    {
      "cell_type": "markdown",
      "source": [
        "c. Two cars A and B leave an intersection at the same time. Car A travels west at an average speed of x miles per hour and car B travels south at an average speed of y miles per hour. Write a program that prompts the user to enter the average speed of both the cars and the elapsed time (in hours and minutes) and outputs the (shortest) distance between the cars."
      ],
      "metadata": {
        "id": "gAxw_xVk25qO"
      }
    },
    {
      "cell_type": "code",
      "source": [
        "A1 = int(input(\"speed: \"))\n",
        "B1 = int(input(\"speed: \"))\n",
        "\n",
        "A2 = int(input(\"time: \"))\n",
        "B2 = int(input(\"time: \"))\n",
        "\n",
        "distance1 = A1 * A2\n",
        "distance2 = B1 * B2\n",
        "\n",
        "distance3 = (distance1 ** 2) + (distance2 ** 2)\n",
        "\n",
        "distanceFinal = distance3 ** 0.5\n",
        "\n",
        "print(distanceFinal)"
      ],
      "metadata": {
        "id": "nMPuZXsH26nW",
        "outputId": "32fca4b9-17a6-47e8-f22d-225e8c553d86",
        "colab": {
          "base_uri": "https://localhost:8080/"
        }
      },
      "execution_count": 24,
      "outputs": [
        {
          "output_type": "stream",
          "name": "stdout",
          "text": [
            "speed: 1\n",
            "speed: 1\n",
            "time: 1\n",
            "time: 1\n",
            "1.4142135623730951\n"
          ]
        }
      ]
    },
    {
      "cell_type": "markdown",
      "source": [
        "### Troubleshooting\n",
        "\n",
        "Please troubleshoot the following issue **without using Python**, and explain your reasoning.\n",
        "\n",
        "a. ```hello = \"hello\"```  \n",
        "b. ```_var = 100```  \n",
        "c. ```!var_1 = 200```  \n",
        "d. ```print = \"print me\"```  \n",
        "e. ```False = 0```  "
      ],
      "metadata": {
        "id": "V0l5fqK-NJ2n"
      }
    },
    {
      "cell_type": "markdown",
      "source": [
        "a. no issue\n",
        "b. no issue\n",
        "c. you can't start with an exclamation mark: var_1 = 200\n",
        "d. print is a function not a variable: print(\"print me\")\n",
        "e. False is a boolean expression not an integer"
      ],
      "metadata": {
        "id": "Cz8CqobPNO8n"
      }
    },
    {
      "cell_type": "markdown",
      "source": [
        "## Challenges\n",
        "\n",
        "Please describe the challenges you faced during the exercise."
      ],
      "metadata": {
        "id": "xQzjxKdvvbyo"
      }
    },
    {
      "cell_type": "markdown",
      "source": [
        "I had some challenges writing the code for the interest problem, (I don't really know how interest works all that well and the problem is worded confunsingly)."
      ],
      "metadata": {
        "id": "qfJNpTB5EbY4"
      }
    }
  ]
}