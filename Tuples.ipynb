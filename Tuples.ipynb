{
  "nbformat": 4,
  "nbformat_minor": 0,
  "metadata": {
    "colab": {
      "provenance": [],
      "include_colab_link": true
    },
    "kernelspec": {
      "name": "python3",
      "display_name": "Python 3"
    },
    "language_info": {
      "name": "python"
    }
  },
  "cells": [
    {
      "cell_type": "markdown",
      "metadata": {
        "id": "view-in-github",
        "colab_type": "text"
      },
      "source": [
        "<a href=\"https://colab.research.google.com/github/tylerD6/python-class/blob/main/Tuples.ipynb\" target=\"_parent\"><img src=\"https://colab.research.google.com/assets/colab-badge.svg\" alt=\"Open In Colab\"/></a>"
      ]
    },
    {
      "cell_type": "markdown",
      "source": [
        "# Tuples in Python\n",
        "A tuple in Python is an ordered, immutable sequence of elements. Tuples are defined using parentheses and can contain elements of different data types, including other tuples. Once a tuple is created, its elements cannot be modified, added, or removed. This immutability makes tuples suitable for representing fixed collections of data.\n",
        "\n",
        "## Objective\n",
        "- Comprehend the application of tuples\n",
        "- Understand how a tuple uses a memory\n",
        "- Apply various operations on tuples\n",
        "\n",
        "## Prerequisite\n",
        "\n",
        "- Lists\n",
        "- Decision and loops\n",
        "- Input functions\n",
        "- Python literals\n",
        "- Programming variables\n",
        "\n",
        "\n",
        "## What do you need to complete this exercise?\n",
        "\n",
        "You can perform this exercise in any Python IDE, including JupyterLab or Google Colab.\n"
      ],
      "metadata": {
        "id": "2ITy4ycVFXBq"
      }
    },
    {
      "cell_type": "markdown",
      "source": [
        "# 1. Exercising tuples\n",
        "\n",
        "1a) Take five inputs from an user and save it in a tuple called ```my_tuple```"
      ],
      "metadata": {
        "id": "uQxH0KO0tsDc"
      }
    },
    {
      "cell_type": "code",
      "source": [
        "# Write your code here."
      ],
      "metadata": {
        "id": "rRTflD1C9mjt"
      },
      "execution_count": null,
      "outputs": []
    },
    {
      "cell_type": "markdown",
      "source": [
        "1b. How do you assign a single element in a tuple?"
      ],
      "metadata": {
        "id": "0jkTuRdlA6sk"
      }
    },
    {
      "cell_type": "code",
      "source": [
        "# Write your code here."
      ],
      "metadata": {
        "id": "8ZIVOfAMQt2Z"
      },
      "execution_count": null,
      "outputs": []
    },
    {
      "cell_type": "markdown",
      "source": [
        "1c. ```my_tuple = (1,2,3,4,3,2,1,2,3,5,4,3,2,1)```\n",
        "Count the repeated integers and print the result on the console."
      ],
      "metadata": {
        "id": "Wv1LOaouA_Gq"
      }
    },
    {
      "cell_type": "code",
      "source": [
        "# Write your code here."
      ],
      "metadata": {
        "id": "cF0UyMIqQ8V3"
      },
      "execution_count": null,
      "outputs": []
    },
    {
      "cell_type": "markdown",
      "source": [
        "1d. ```my_tuple = my_tuple + my_tuple```\n",
        "\n",
        "\n",
        "Proof that ```my_tuple``` in part c is different than the ```my_tuple``` in part d.\n"
      ],
      "metadata": {
        "id": "0IWZsl7LBGvD"
      }
    },
    {
      "cell_type": "code",
      "source": [
        "# Write your code here."
      ],
      "metadata": {
        "id": "S5kO371-Q_NL"
      },
      "execution_count": null,
      "outputs": []
    },
    {
      "cell_type": "markdown",
      "source": [
        "1e. Explain why the following operations aren’t legal for\n",
        "the tuple. Answer without using the Python.\n",
        "```\n",
        "x = (1,2,3,4)\n",
        "x.append(1)\n",
        "x[1] = \"hello\"\n",
        "del x[2]\n",
        "```"
      ],
      "metadata": {
        "id": "gdub5W3O0isl"
      }
    },
    {
      "cell_type": "markdown",
      "source": [
        "Write your response here."
      ],
      "metadata": {
        "id": "sLoX5Dtt0_rX"
      }
    },
    {
      "cell_type": "markdown",
      "source": [
        "# 2. Packing and unpacking tuples"
      ],
      "metadata": {
        "id": "tJlIQIYjBPLX"
      }
    },
    {
      "cell_type": "markdown",
      "source": [
        "Python permits tuples to appear on the left side of an assignment operator, in which case variables in the tuple receive the corresponding values from the tuple on the right side of the assignment operator. Here’s a simple example:"
      ],
      "metadata": {
        "id": "QkNQDkq7zAOr"
      }
    },
    {
      "cell_type": "code",
      "source": [
        "(one, two, three, four) =  (1, 2, 3, 4)"
      ],
      "metadata": {
        "id": "70JnWsa6zE0M"
      },
      "execution_count": null,
      "outputs": []
    },
    {
      "cell_type": "markdown",
      "source": [
        "2a. What is the data type of each variable?"
      ],
      "metadata": {
        "id": "O0-uz6MdzJ4a"
      }
    },
    {
      "cell_type": "markdown",
      "source": [
        "2b. Python has an extended unpacking feature, allowing an element marked with * to absorb any number of elements not matching the other elements. For example,"
      ],
      "metadata": {
        "id": "6vXaWJBczn5u"
      }
    },
    {
      "cell_type": "code",
      "source": [
        "x = (1, 2, 3, 4)\n",
        "a, b, *c = x\n",
        "a, b, c"
      ],
      "metadata": {
        "colab": {
          "base_uri": "https://localhost:8080/"
        },
        "id": "Dkgby1wqzyx8",
        "outputId": "d759257d-5a49-4c5d-d22d-2b252a62c8ca"
      },
      "execution_count": null,
      "outputs": [
        {
          "output_type": "execute_result",
          "data": {
            "text/plain": [
              "(1, 2, [3, 4])"
            ]
          },
          "metadata": {},
          "execution_count": 2
        }
      ]
    },
    {
      "cell_type": "markdown",
      "source": [
        "2c. What will be the result of ```a, *b, c = x```?"
      ],
      "metadata": {
        "id": "l9xBGV0K0L6_"
      }
    },
    {
      "cell_type": "code",
      "source": [
        "# Write your code here."
      ],
      "metadata": {
        "id": "fQr5X9N0RceU"
      },
      "execution_count": null,
      "outputs": []
    },
    {
      "cell_type": "markdown",
      "source": [
        "# 3. Memory management\n",
        "\n",
        "```\n",
        "my_x = [100,200,300,400]\n",
        "my_y = (200,300,400,500)\n",
        "\n",
        "```\n",
        "Discuss how memory addresses are assigned to each index of the list and the tuple. Pay attention to new addresses & re-used addresses.\n",
        "\n",
        "| Index | my_x | my_x |\n",
        "|   -   |  -   |  -   |\n",
        "|   0   |   -  |  -   |\n",
        "|   1   |   -  |  -   |\n",
        "|   2   |   -  |  -   |\n",
        "|   3   |   -  |  -   |\n",
        "\n"
      ],
      "metadata": {
        "id": "QV96NnL82MPT"
      }
    },
    {
      "cell_type": "markdown",
      "source": [
        "## Challenges\n",
        "\n",
        "Please describe the challenges you faced during the exercise."
      ],
      "metadata": {
        "id": "xQzjxKdvvbyo"
      }
    },
    {
      "cell_type": "markdown",
      "source": [
        "Write your challenges here"
      ],
      "metadata": {
        "id": "qfJNpTB5EbY4"
      }
    }
  ]
}